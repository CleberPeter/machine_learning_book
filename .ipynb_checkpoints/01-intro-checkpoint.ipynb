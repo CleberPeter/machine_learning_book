{
 "cells": [
  {
   "cell_type": "markdown",
   "id": "db01b638-d827-4469-a8f2-fb3a90ad8e40",
   "metadata": {},
   "source": [
    "# Introdução\n",
    "\n",
    "As técnicas de aprendizado de máquina permitem a automação de diversas tarefas do nosso cotidiano. São exemplos de soluções baseadas em aprendizado de máquina: filtros de spam, recomendadores de conteúdo, veículos autônomos, etc.\n",
    "\n",
    "De forma suscinta, é classe de algoritmos que, baseado em uma etapa prévia de treinamento, possui a capacidade de modelar o comportamento de um sistema e responder de forma adequada a entradas não presentes durante o treinamento.\n",
    "\n",
    "## Conceito\n",
    "\n",
    "Primeiro conceito - O Campo de estudo que dá aos computadores a habilidade de aprender sem que sejam explicitamente programados. [\\[Samuel, 1959\\]](https://www.cs.virginia.edu/~evans/greatworks/samuel1959.pdf)\n",
    "\n",
    "Formalização: Diz-se que um programa de computador aprende com a experiência E no contexto de alguma tarefa T e alguma medida de performance P, se seu desempenho em T, como foi medido por P, melhora com a experiência E. [\\[Mitchel, 1998\\]](https://www.cin.ufpe.br/~cavmj/Machine%20-%20Learning%20-%20Tom%20Mitchell.pdf)\n",
    "\n",
    "Em um filtro de spam, segundo Mitchel, a experiência E é caracterizada pelo monitoramento dos emails que o usuário marca como spam, a tarefa T pelo processo de classificação dos emails e a performance P pela quantidade de emails classificados corretamente.\n",
    "\n",
    "## Aprendizado Supervisionado\n",
    "\n",
    "Um conjunto de dados de treinamento com as entradas e suas respectivas saídas são fornecidas ao algoritmo de aprendizado. Cabe ao algoritmo determinar um modelo e assim generalizar para fornecer uma solução para problemas semelhantes. \n",
    "\n",
    "A Figura ilustra o fluxo de dados de um algoritmo de aprendizado de máquina treinado de forma supervisionada.\n",
    "\n",
    "```{figure} imgs/supervised_learning_flow.png\n",
    "---\n",
    "height: 150px\n",
    "name: directive-fig\n",
    "---\n",
    "Here is my figure caption!\n",
    "```"
   ]
  },
  {
   "cell_type": "markdown",
   "id": "c90f63d3-25ba-473a-ac2d-ef3a9df7c1a7",
   "metadata": {},
   "source": []
  },
  {
   "cell_type": "code",
   "execution_count": null,
   "id": "52fc9e25-1a3b-4f6f-a142-8c59fe068bf5",
   "metadata": {},
   "outputs": [],
   "source": []
  }
 ],
 "metadata": {
  "kernelspec": {
   "display_name": "Python 3 (ipykernel)",
   "language": "python",
   "name": "python3"
  },
  "language_info": {
   "codemirror_mode": {
    "name": "ipython",
    "version": 3
   },
   "file_extension": ".py",
   "mimetype": "text/x-python",
   "name": "python",
   "nbconvert_exporter": "python",
   "pygments_lexer": "ipython3",
   "version": "3.8.10"
  }
 },
 "nbformat": 4,
 "nbformat_minor": 5
}
