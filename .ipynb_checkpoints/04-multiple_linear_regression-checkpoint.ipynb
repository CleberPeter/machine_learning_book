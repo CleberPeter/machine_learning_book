{
 "cells": [
  {
   "cell_type": "markdown",
   "id": "0f0cf28c",
   "metadata": {},
   "source": [
    "# Regressão Linear Múltipla\n",
    "\n",
    "Ao contrário dos problemas do capítulo 1, neste caso existem múltiplas variáveis de entrada. Um problema deste tipo consiste em determinar um modelo que mapeia o preço dos imóveis em função do seu tamanho, quantidade de quartos, banheiros, etc. Ou seja, o modelo deve ser composto da combinação linear de todas as variáveis de entrada do problema, conforme segue."
   ]
  },
  {
   "cell_type": "markdown",
   "id": "8a75fe4b",
   "metadata": {},
   "source": [
    "$$\n",
    "\\begin{align} \n",
    "\\theta = \\begin{bmatrix} \\theta_{1} \\\\ \\theta_{2} \\\\ . \\\\ . \\\\ \\theta_{n+1} \\end{bmatrix} && \n",
    "x = \\begin{bmatrix} 1 \\\\ x_{1} \\\\ . \\\\ . \\\\ x_{n} \\end{bmatrix} && \n",
    "h_{\\theta}(x) = \\theta^{T} x\n",
    "\\end{align}$$\n",
    "\n",
    "$$h_{\\theta}(x) = \\theta_{1} + \\theta_{2} x_{1} + ... + \\theta_{n+1} x_{n}$$"
   ]
  },
  {
   "cell_type": "markdown",
   "id": "805b968f",
   "metadata": {},
   "source": [
    "Uma forma de interpretar este modelo no contexto do estimador de preço dos imóveis, é considerando $x_{1}$ o tamanho em metros quadrados da casa, $x_{2}$ a quantidade de quartos, $\\theta_{1}$ seria o preço base da casa, $\\theta_{2}$ o preço por metro quadrado, $\\theta_{3}$ o preço por cada quarto adicional e assim por diante. \n"
   ]
  },
  {
   "cell_type": "markdown",
   "id": "bddecde7",
   "metadata": {},
   "source": [
    "O Gradiente para a função custo na regressão linear múltipla pode ser obtido conforme segue:"
   ]
  },
  {
   "cell_type": "markdown",
   "id": "6a5da170",
   "metadata": {},
   "source": [
    "$$J(\\theta) = \\frac{1}{2 m} \\sum\\limits_{i=1}^{m}(h_{\\theta}(x^{i}) - y^{i})^{2} = \\frac{1}{2 m} \\sum\\limits_{i=1}^{m}(\\theta^T x^{i} - y^{i})^{2}$$\n",
    "\n",
    "$$\\nabla J(\\theta) = \\begin{bmatrix} \\frac{\\partial J}{\\partial \\theta_1} & \\frac{\\partial J}{\\partial \\theta_2} & ... &  \\frac{\\partial J}{\\partial \\theta_{n+1}}\\end{bmatrix}^T = \\begin{bmatrix} \\frac{1}{m} \\sum\\limits_{i=1}^{m}(\\theta^T x^{i} - y^{i}) & \\frac{1}{m} \\sum\\limits_{i=1}^{m}(\\theta^T x^{i} - y^{i}) x_{1}^{i} & ... & \\frac{1}{m} \\sum\\limits_{i=1}^{m}(\\theta^T x^{i} - y^{i}) x_{n}^{i} \\end{bmatrix}^T$$"
   ]
  },
  {
   "cell_type": "code",
   "execution_count": null,
   "id": "85438e7e",
   "metadata": {},
   "outputs": [],
   "source": []
  }
 ],
 "metadata": {
  "kernelspec": {
   "display_name": "Python 3 (ipykernel)",
   "language": "python",
   "name": "python3"
  },
  "language_info": {
   "codemirror_mode": {
    "name": "ipython",
    "version": 3
   },
   "file_extension": ".py",
   "mimetype": "text/x-python",
   "name": "python",
   "nbconvert_exporter": "python",
   "pygments_lexer": "ipython3",
   "version": "3.8.10"
  }
 },
 "nbformat": 4,
 "nbformat_minor": 5
}
