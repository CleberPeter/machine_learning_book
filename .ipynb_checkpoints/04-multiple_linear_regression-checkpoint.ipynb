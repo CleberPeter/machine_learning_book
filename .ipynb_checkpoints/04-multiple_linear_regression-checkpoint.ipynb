{
 "cells": [
  {
   "cell_type": "markdown",
   "id": "0f0cf28c",
   "metadata": {},
   "source": [
    "# Regressão Linear Múltipla\n",
    "\n",
    "Ao contrário dos problemas do capítulo 1, neste caso existem múltiplas variáveis de entrada. Um problema deste tipo, por exemplo, consiste em determinar um modelo que mapeia o preço dos imóveis não somente em função do seu tamanho, mas também da quantidade de quartos, banheiros, etc. Ou seja, o modelo deve ser composto da combinação linear de todas as variáveis de entrada do problema, conforme segue."
   ]
  },
  {
   "cell_type": "markdown",
   "id": "8a75fe4b",
   "metadata": {},
   "source": [
    "$$\n",
    "\\begin{align} \n",
    "\\theta = \\begin{bmatrix} \\theta_{1} \\\\ \\theta_{2} \\\\ . \\\\ . \\\\ \\theta_{n+1} \\end{bmatrix} && \n",
    "x = \\begin{bmatrix} 1 \\\\ x_{1} \\\\ . \\\\ . \\\\ x_{n} \\end{bmatrix} && \n",
    "h_{\\theta}(x) = \\theta^{T} x\n",
    "\\end{align}$$\n",
    "\n",
    "$$h_{\\theta}(x) = \\theta_{1} + \\theta_{2} x_{1} + ... + \\theta_{n+1} x_{n}$$"
   ]
  },
  {
   "cell_type": "markdown",
   "id": "805b968f",
   "metadata": {},
   "source": [
    "Uma forma de interpretar este modelo no contexto do estimador de preço dos imóveis é: considerando $x_{1}$ o tamanho em metros quadrados da casa e $x_{2}$ a quantidade de quartos, $\\theta_{1}$ seria o preço base da casa, $\\theta_{2}$ o preço por metro quadrado, $\\theta_{3}$ o preço por cada quarto adicional, e assim por diante. \n"
   ]
  },
  {
   "cell_type": "markdown",
   "id": "bddecde7",
   "metadata": {},
   "source": [
    "O Gradiente para a função custo na regressão linear múltipla pode ser obtido conforme segue:"
   ]
  },
  {
   "cell_type": "markdown",
   "id": "6a5da170",
   "metadata": {},
   "source": [
    "$$J(\\theta) = \\frac{1}{2 m} \\sum\\limits_{i=1}^{m}(h_{\\theta}(x^{i}) - y^{i})^{2} = \\frac{1}{2 m} \\sum\\limits_{i=1}^{m}(\\theta^T x^{i} - y^{i})^{2}$$\n",
    "\n",
    "$$\\nabla J(\\theta) = \\begin{bmatrix} \\frac{\\partial J}{\\partial \\theta_1} & \\frac{\\partial J}{\\partial \\theta_2} & ... &  \\frac{\\partial J}{\\partial \\theta_{n+1}}\\end{bmatrix}^T = \\begin{bmatrix} \\frac{1}{m} \\sum\\limits_{i=1}^{m}(\\theta^T x^{i} - y^{i}) & \\frac{1}{m} \\sum\\limits_{i=1}^{m}(\\theta^T x^{i} - y^{i}) x_{1}^{i} & ... & \\frac{1}{m} \\sum\\limits_{i=1}^{m}(\\theta^T x^{i} - y^{i}) x_{n}^{i} \\end{bmatrix}^T$$"
   ]
  },
  {
   "cell_type": "markdown",
   "id": "bb2bc96d",
   "metadata": {},
   "source": [
    "## Normalização das Entradas"
   ]
  },
  {
   "cell_type": "markdown",
   "id": "0f0cb6ea",
   "metadata": {},
   "source": [
    "Conforme já discutido, o Algoritmo Gradiente Descendente, utilizado para minimizar a função custo, irá realizar deslocamentos proporcionais a inclinação da curva em cada uma das suas direções. "
   ]
  },
  {
   "cell_type": "code",
   "execution_count": 37,
   "id": "314b4a44",
   "metadata": {},
   "outputs": [],
   "source": [
    "import numpy as np\n",
    "\n",
    "# multiple linear regression hypothesis: o1*x1 + o2*x2\n",
    "def h(x, o):\n",
    "    return np.dot(x, o)\n",
    "\n",
    "# J = MSE/2\n",
    "def J(x, o, y):\n",
    "    m = np.shape(x)[0]\n",
    "    h_x = h(x, o)\n",
    "    return np.sum(np.power(h_x - y, 2), axis=0)*1/(2*m)"
   ]
  },
  {
   "cell_type": "code",
   "execution_count": 36,
   "id": "eb2ed72b",
   "metadata": {},
   "outputs": [],
   "source": [
    "def plot_cost_function():\n",
    "    %matplotlib inline\n",
    "    import matplotlib.pyplot as plt\n",
    "    \n",
    "    # arbitrary data to visualize cost function\n",
    "    o1 = np.arange(-10, 10, 0.25)\n",
    "    o2 = np.arange(-10, 10, 0.25)\n",
    "\n",
    "    # prepare data in meshgrid format\n",
    "    X, Y = np.meshgrid(o1, o2)\n",
    "    \n",
    "    # serialize meshgrid to use J\n",
    "    c_o = np.power(len(o1), 2)\n",
    "    o = np.zeros((2, c_o))\n",
    "    o[0, :] = np.reshape(X, [1, c_o])\n",
    "    o[1, :] = np.reshape(Y, [1, c_o])\n",
    "    j = J(x, o, y)\n",
    "\n",
    "    # transform j to meshgrid\n",
    "    Z = np.reshape(j, np.shape(X))\n",
    "        \n",
    "    # plot\n",
    "    fig = plt.figure(figsize=(20,10))\n",
    "    # surface\n",
    "    ax = fig.add_subplot(121, projection='3d')\n",
    "    ax.set_xlabel(r'$\\theta_{1}$')\n",
    "    ax.set_ylabel(r'$\\theta_{2}$')\n",
    "    \n",
    "    ax.plot_surface(X, Y, Z, alpha=0.2)\n",
    "    \n",
    "    # plot contours    \n",
    "    ax = fig.add_subplot(122)\n",
    "    levels = [10, 50, 100, 250, 500, 750, 1000] # to improve view \n",
    "    contours = ax.contour(X, Y, Z, levels, colors='black')\n",
    "    \n",
    "    plt.clabel(contours, inline = True, fontsize = 10)\n",
    "    plt.xlabel(r'$\\theta_{1}$')\n",
    "    plt.ylabel(r'$\\theta_{2}$')"
   ]
  },
  {
   "cell_type": "code",
   "execution_count": 35,
   "id": "7cce7a8d",
   "metadata": {},
   "outputs": [
    {
     "name": "stdout",
     "output_type": "stream",
     "text": [
      "(80, 2)\n",
      "[0.]\n"
     ]
    }
   ],
   "source": [
    "x1 = np.arange(-10, 10, 0.25)\n",
    "x2 = np.arange(-10, 10, 0.25)\n",
    "x = np.zeros([len(x1), 2])\n",
    "x[:,0] = x1\n",
    "x[:,1] = x2\n",
    "\n",
    "o = np.array([[1],[2]])\n",
    "y = h(x,o)\n",
    "\n",
    "# new arbitrary data to visualize cost function\n",
    "o1 = np.arange(-10, 10, 0.25)\n",
    "o2 = np.arange(-10, 10, 0.25)\n",
    "\n",
    "print(J(x,o,y))"
   ]
  },
  {
   "cell_type": "code",
   "execution_count": null,
   "id": "6bce3388",
   "metadata": {},
   "outputs": [],
   "source": []
  },
  {
   "cell_type": "code",
   "execution_count": null,
   "id": "6344f458",
   "metadata": {},
   "outputs": [],
   "source": []
  }
 ],
 "metadata": {
  "kernelspec": {
   "display_name": "Python 3 (ipykernel)",
   "language": "python",
   "name": "python3"
  },
  "language_info": {
   "codemirror_mode": {
    "name": "ipython",
    "version": 3
   },
   "file_extension": ".py",
   "mimetype": "text/x-python",
   "name": "python",
   "nbconvert_exporter": "python",
   "pygments_lexer": "ipython3",
   "version": "3.8.10"
  }
 },
 "nbformat": 4,
 "nbformat_minor": 5
}
