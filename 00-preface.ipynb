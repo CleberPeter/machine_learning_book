{
 "cells": [
  {
   "cell_type": "markdown",
   "metadata": {},
   "source": [
    "# Prefácio\n",
    "\n",
    "Este livro tem por objetivo servir de apoio aos estudos sobre **Aprendizado de Máquina**. O conteúdo apresentado visa cobrir os principais temas da disciplina, porém não reflete a totalidade desta área que apresenta constante evolução.\n",
    "\n",
    "## Metodologia\n",
    "\n",
    "Os algoritmos foram desenvolvidos com a linguagem Python 3 e o livro foi escrito com auxílio da ferramenta Jupyter Notebook. Sendo assim, todos os códigos desenvolvidos podem ser alterados e reexecutados pelo leitor, **o que é altamente recomendado.** \n",
    "\n",
    "A abordagem para apresentação do conteúdo é fortemente embasada na solução de problemas pelo emprego de técnicas de Aprendizado de Máquina. Ademais, com o objetivo de fornecer uma explanação intuitiva dos algoritmos, todos os códigos são desenvolvidos do zero sem a utilização de bibliotecas de terceiros como TensorFlow, Keras, etc.\n",
    "\n",
    "*Aviso: A implementação dos algoritmos produzida neste livro possui fins didáticos e não é recomendada para aplicações reais.* \n",
    "\n",
    "## Motivações para o livro\n",
    "\n",
    "A lei da oferta e procura regula não somente a economia, mas também as relações laborais. Atualmente o valor do profissional é balizado pelo seu grau de especialidade, ou seja, é melhor remunerado o profissional que executa uma tarefa relevante porém de domínio de poucos.\n",
    "\n",
    "O aprendizado de máquina deixou de figurar o estado da arte e atualmente já representa o estado da prática. Entretanto, a abordagem de \"caixa preta\" utilizada pelos desenvolvedores impede a generalização das soluções e restringe a sua aplicação a execução de tarefas específicas.\n",
    "\n",
    "Os profissionais que se limitam a solução dos problemas já mapeados pela literatura tem seu valor profissional limitado pelo surgimento massivo de novos profissionais com o mesmo conhecimento. Sendo assim, a proposta deste livro consiste em apresentar o processo racional por trás da criação dos algoritmos de aprendizado de máquina com o objetivo de contribuir para formação do leitor e desenvolver sua intuição para a soluções de novos problemas.\n",
    "\n",
    "## Baixando e executando\n",
    "\n",
    "Este livro foi escrito para fornecer uma experiência interativa ao leitor, porém para que seja aproveitado em sua totalidade é necessário preparar o ambiente para sua execução. O [Apêndice_A](appendix-A-download_execution.ipynb) ilustra os procedimentos para o download e execução do livro.  \n",
    "\n",
    "## Contribuições\n",
    "\n",
    "O modelo interativo e online desta obra favorece a contribuição. Logo, o fonte deste livro é hospeado no [Github](https://github.com/CleberPeter/machine_learning_book) onde sugestões de correção e/ou melhoria são muito bem vindas.\n",
    "\n",
    "## Contato\n",
    "\n",
    "clebers.peter@gmail.com"
   ]
  },
  {
   "cell_type": "code",
   "execution_count": null,
   "metadata": {},
   "outputs": [],
   "source": []
  }
 ],
 "metadata": {
  "kernelspec": {
   "display_name": "Python 3 (ipykernel)",
   "language": "python",
   "name": "python3"
  },
  "language_info": {
   "codemirror_mode": {
    "name": "ipython",
    "version": 3
   },
   "file_extension": ".py",
   "mimetype": "text/x-python",
   "name": "python",
   "nbconvert_exporter": "python",
   "pygments_lexer": "ipython3",
   "version": "3.8.10"
  }
 },
 "nbformat": 4,
 "nbformat_minor": 4
}
