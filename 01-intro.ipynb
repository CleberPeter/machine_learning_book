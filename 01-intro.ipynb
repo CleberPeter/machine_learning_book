{
 "cells": [
  {
   "cell_type": "markdown",
   "id": "db01b638-d827-4469-a8f2-fb3a90ad8e40",
   "metadata": {},
   "source": [
    "# Introdução\n",
    "\n",
    "Um dos primeiros sucessos comerciais em Inteligência Artificial foram os Sistemas Especialistas. Estes almejam substituir um tomador de decisão humano (o especialista) por meio da extração e formalização do processo decisório. Nestes sistemas o conhecimento é codificado em uma série de fatos e regras formais (frequentemente regras se…então), que são utilizados para realizar inferências utilizando a lógica.\n",
    "\n",
    "<img src=\"imgs/expert_systems.png\" alt=\"expert_systems\" width=\"500\" style=\"display:block; margin:auto\"/>\n",
    "\n",
    "<div align=\"center\">\n",
    "Fluxo de dados em um sistema especialista.\n",
    "</div>\n",
    "\n",
    "<br>\n",
    "\n",
    "Entretanto existem problemas para os quais as regras não são bem definidas. Andar de bicicleta por exemplo, não existe uma definição sobre a sequência de passos a ser seguida para nos equilibrarmos, fazer curvas, desviar de buracos, etc. Neste tipo de problema, foco da área de aprendizado de máquina, a solução se dá através da tentiva e erro.\n",
    "\n",
    "Os algoritmos de aprendizado de máquina ao invés de extrair as regras do especialista, coletam o histórico de informações acessíveis e as ações desejadas para então criar \"regras\" que procuram gerar as mesmas ações a partir das informações dadas. Ao invés de explicarmos como reconhecemos uma pessoa, apenas rotulamos dezenas ou centenas de imagens da pessoa, algo muito mais fácil ainda que tedioso, e deixamos um algoritmo de aprendizado de máquina descobrir como reconhecê-la em novas fotos futuras."
   ]
  },
  {
   "cell_type": "markdown",
   "id": "60f0033b-b24c-485c-be72-0cc86aacd7c8",
   "metadata": {},
   "source": [
    "## O que é Aprendizado de Máquina ?\n",
    "\n",
    "Muito se discute sobre o que deve ser considerado como Inteligência Artificial e o que são simplesmente sistemas de automação. Entretanto, no que se refere ao termo aprendizado de máquina seu conceito é bem definido: \n",
    "\n",
    "Primeiro conceito: O Campo de estudo que dá aos computadores a habilidade de aprender sem que sejam explicitamente programados. [\\[Samuel, 1959\\]](https://www.cs.virginia.edu/~evans/greatworks/samuel1959.pdf)\n",
    "\n",
    "Formalização: Diz-se que um programa de computador aprende com a experiência E no contexto de alguma tarefa T e alguma medida de performance P, se seu desempenho em T, como foi medido por P, melhora com a experiência E. [\\[Mitchel, 1998\\]](https://www.cin.ufpe.br/~cavmj/Machine%20-%20Learning%20-%20Tom%20Mitchell.pdf)\n",
    "\n",
    "Em um filtro de spam, segundo Mitchel, a experiência E é caracterizada pelo monitoramento dos emails que o usuário marca como spam, a tarefa T pelo processo de classificação dos emails e a performance P pela quantidade de emails classificados corretamente.\n",
    "\n",
    "A etapa de aprendizado dos algoritmos também denominada de treinamento divide os algoritmos em dois grandes grupos: Supervisionados e Não Supervisionados."
   ]
  },
  {
   "cell_type": "markdown",
   "id": "c8ff2bc8-8bb6-4ac5-84e5-15d35bb28ea2",
   "metadata": {},
   "source": [
    "## Aprendizado Supervisionado\n",
    "\n",
    "Classe de problemas em que existe rotulação dos dados, ou seja, para pelo menos uma fração dos dados de entrada é conhecida a saída desejada. A execução destes algoritmos é divida em duas etapas. A primeira, denominada de treinamento, compreende o fornecimento dos dados rotulados ao algoritmo para que seja estimado um modelo que mapeia as entradas nas saídas. A segunda, denominada de generalização, consiste em utilizar o modelo estimado para obter saídas adequadas também para entradas não presentes durante a fase de treinamento.\n",
    "\n",
    "<img src=\"imgs/supervised_learning_flow.png\" alt=\"supervised_learning_flow\" width=\"300\" style=\"display:block; margin:auto\"/>\n",
    "\n",
    "<div align=\"center\">\n",
    "Fluxo de dados em um algoritmo de aprendizado de máquina treinado de forma supervisionada.\n",
    "</div>"
   ]
  },
  {
   "cell_type": "markdown",
   "id": "d90b72a0-4126-4596-9e5a-4a5bca374cb3",
   "metadata": {},
   "source": [
    "## Aprendizado Não Supervisionado\n",
    "\n",
    "Classe de problemas em que não existe rotulação prévia dos dados, ou seja, possuímos somente as entradas para o algoritmo. Em nenhum momento é informado ao algoritmo a qual categoria as entradas pertencem. Nestes problemas normalmente são empregadas estratégias de agrupamento baseadas na similaridade das entradas. \n",
    "\n",
    "<img src=\"imgs/unsupervised_learning_grouping.png\" alt=\"unsupervised_learning_grouping\" width=\"200\" style=\"display:block; margin:auto\"/>\n",
    "\n",
    "<div align=\"center\">\n",
    "Agrupamento das entradas em função da similaridade.\n",
    "</div>\n",
    "\n",
    "<br>\n",
    "\n",
    "São exemplos de aprendizado não supervisionado: o google news que agrupa notícias de sites distintos que se referem a um mesmo tema e o facebook que estima quais são seus amigos mais próximos em função da sua interação com eles.\n",
    "\n",
    "Outro exemplo de algoritmo não supervisionado é o que separa o áudio de duas fontes distintas [Cocktail Party Algorithm](https://en.wikipedia.org/wiki/Cocktail_party_effect). Em nenhum momento é informado ao algoritmo qual trecho do áudio pertence a qual fonte. Uma generalização ocorre quando após aprender a separar a voz de duas pessoas, o algoritmo também passa a separar a voz de uma música de fundo.\n",
    "\n",
    "Os algoritmos de aprendizado de máquina ainda podem ser classificados conforme a natureza da variável de saída do algoritmo, novamente dois grupos são formados, os algoritmos destinados aos problemas de regressão e os destinados aos problemas de classificação."
   ]
  },
  {
   "cell_type": "markdown",
   "id": "11073b2a-14ca-4f94-bb99-423c5cd230d9",
   "metadata": {},
   "source": [
    "## Regressão\n",
    "\n",
    "Os algoritmos de aprendizado destinados aos problemas de regressão tem como saída do modelo um valor **contínuo**.\n",
    "\n",
    "<img src=\"imgs/regression.png\" alt=\"regression\" width=\"400\" style=\"display:block; margin:auto\"/>\n",
    "\n",
    "<div align=\"center\">\n",
    "Exemplo de problema de regressão.\n",
    "</div>\n",
    "\n",
    "<br>\n",
    "\n",
    "Um exemplo de problema de regressão consiste em estimar o valor de venda de um imóvel em função do seu tamanho. Durante o treinamento é fornecido ao algoritmo uma relação de tamanhos de imóveis para os quais o preço é conhecido. Posteriormente é esperado que o algoritmo generalize fornecendo o valor de venda para tamanhos de imóvel que não foram fornecidos durante o treinamento."
   ]
  },
  {
   "cell_type": "markdown",
   "id": "5ca22ff4-0e0f-459c-8811-26842d9c368c",
   "metadata": {},
   "source": [
    "## Classificação\n",
    "\n",
    "Os algoritmos de aprendizado destinados aos problemas de classificação tem como saída do modelo um valor **discreto**.\n",
    "\n",
    "Nestes casos o objetivo consiste em mapear a entrada em um determinado grupo de tamanho finito. A figura abaixo ilustra um algoritmo de classificação que determina, baseado no tamanho do tumor e na idade da pessoa, se o câncer é maligno. \n",
    "\n",
    "<img src=\"imgs/classification.png\" alt=\"classification\" width=\"300\" style=\"display:block; margin:auto\"/>\n",
    "\n",
    "<div align=\"center\">\n",
    "Exemplo de problema de classificação.\n",
    "</div>\n",
    "\n",
    "<br>\n",
    "\n",
    "No exemplo dado a decisão é decisão binária, portanto, discreta. \n"
   ]
  },
  {
   "cell_type": "markdown",
   "id": "0c06ffe5-8e43-4ed7-bd68-3da1cebea7ad",
   "metadata": {},
   "source": [
    "## Notação\n",
    "\n",
    "Durante o restante deste livro a seguinte notação é empregada:\n",
    "\n",
    "* $x$ -> entradas\n",
    "* $y$ -> saída\n",
    "* $\\theta$ -> parâmetros do modelo\n",
    "* $h(\\theta)$ -> modelo estimado no treinamento\n",
    "* $J(\\theta)$ -> função custo\n",
    "* $m$ -> número de conjuntos de treinamento\n",
    "* $(x^{i}, y^{i})$ -> i-ésimo conjunto de treinamento em que $i \\in [1, m]$\n",
    "* $(\\theta^{k}_{0}, \\theta^{k}_{1})$ -> k-ésimo conjunto de parâmetros\n",
    "* $n$ -> número de entradas\n",
    "* $x_{j}$ -> j-ésima entrada em que $j \\in [1, n]$\n",
    "* $x_{j}^{i}$ -> i-ésimo dado de treinamento da j-ésima entrada\n"
   ]
  },
  {
   "cell_type": "code",
   "execution_count": null,
   "id": "e4381959",
   "metadata": {},
   "outputs": [],
   "source": []
  }
 ],
 "metadata": {
  "kernelspec": {
   "display_name": "Python 3 (ipykernel)",
   "language": "python",
   "name": "python3"
  },
  "language_info": {
   "codemirror_mode": {
    "name": "ipython",
    "version": 3
   },
   "file_extension": ".py",
   "mimetype": "text/x-python",
   "name": "python",
   "nbconvert_exporter": "python",
   "pygments_lexer": "ipython3",
   "version": "3.8.10"
  }
 },
 "nbformat": 4,
 "nbformat_minor": 5
}
