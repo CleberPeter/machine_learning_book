{
 "cells": [
  {
   "cell_type": "markdown",
   "id": "db01b638-d827-4469-a8f2-fb3a90ad8e40",
   "metadata": {},
   "source": [
    "# Introdução\n",
    "\n",
    "Um dos primeiros sucessos comerciais em Inteligência Artificial foram os Sistemas Especialistas. Estes almejam substituir um tomador de decisão humano (o especialista) por meio da extração e formalização do processo decisório. Nestes sistemas o conhecimento é codificado em uma série de fatos e regras formais (frequentemente regras se…então), que são utilizados para realizar inferências utilizando a lógica.\n",
    "\n",
    "<img src=\"imgs/expert_systems.png\" alt=\"expert_systems\" width=\"500\" style=\"display:block; margin:auto\"/>\n",
    "\n",
    "<div align=\"center\">\n",
    "Fluxo de dados em um sistema especialista.\n",
    "</div>\n",
    "\n",
    "<br>\n",
    "\n",
    "Entretanto existem problemas para os quais as regras não são bem definidas. Andar de biscicleta por exemplo, não existe uma definição sobre a sequência de passos a ser seguida para nos equilibrarmos, fazer curvas, desviar de buracos, etc. Neste tipo de problema, foco da área de aprendizado de máquina, a solução se dá através da tentiva e erro. \n",
    "\n",
    "Os algoritmos de aprendizado de máquina ao invés de extrair as regras do especialista, coletam o histórico de informações acessíveis e as ações desejadas para então criar \"regras\" que procuram gerar as mesmas ações a partir das informações dadas. Ao invés de explicarmos como reconhecemos uma pessoa, apenas rotulamos dezenas ou centenas de imagens da pessoa, algo muito mais fácil ainda que tedioso, e deixamos um algoritmo de aprendizado de máquina descobrir como reconhecê-la em novas fotos futuras.\n",
    "\n",
    "## O que é Aprendizado de Máquina ?\n",
    "\n",
    "Muito se discute sobre o que deve ser considerado como Inteligência Artificial e o que são simplesmente sistemas de automação. Entretanto, no que se refere ao termo aprendizado de máquina seu conceito é bem definido: \n",
    "\n",
    "Primeiro conceito: O Campo de estudo que dá aos computadores a habilidade de aprender sem que sejam explicitamente programados. [\\[Samuel, 1959\\]](https://www.cs.virginia.edu/~evans/greatworks/samuel1959.pdf)\n",
    "\n",
    "Formalização: Diz-se que um programa de computador aprende com a experiência E no contexto de alguma tarefa T e alguma medida de performance P, se seu desempenho em T, como foi medido por P, melhora com a experiência E. [\\[Mitchel, 1998\\]](https://www.cin.ufpe.br/~cavmj/Machine%20-%20Learning%20-%20Tom%20Mitchell.pdf)\n",
    "\n",
    "Em um filtro de spam, segundo Mitchel, a experiência E é caracterizada pelo monitoramento dos emails que o usuário marca como spam, a tarefa T pelo processo de classificação dos emails e a performance P pela quantidade de emails classificados corretamente.\n",
    "\n",
    "A etapa de aprendizado dos algoritmos também denominada de treinamento divide os algoritmos em dois grandes grupos: Supervisionados e Não Supervisionados.\n",
    "\n",
    "## Aprendizado Supervisionado\n",
    "\n",
    "Classe de problemas em que existe rotulação dos dados, ou seja, para pelo menos uma fração dos dados de entrada é conhecida a saída desejada. A execução destes algoritmos é divida em duas etapas. A primeira, denominada de treinamento, compreende o fornecimento dos dados rotulados ao algoritmo para que seja estimado um modelo que mapeie as entradas nas saídas. A segunda, denominada de generalização, consiste em utilizar o modelo estimado para obter saídas adequadas também para entradas não presentes durante a fase de treinamento.\n",
    "\n",
    "<img src=\"imgs/supervised_learning_flow.png\" alt=\"supervised_learning_flow\" width=\"300\" style=\"display:block; margin:auto\"/>\n",
    "\n",
    "<div align=\"center\">\n",
    "Fluxo de dados em um algoritmo de aprendizado de máquina treinado de forma supervisionada.\n",
    "</div>\n",
    "\n",
    "## Aprendizado Não Supervisionado\n",
    "\n",
    "Classe de problemas em que não existe rotulação prévia dos dados, ou seja, possuímos somente as entradas para o algoritmo, não é dito em nenhum momento ao algoritmo a qual categoria as entradas pertencem. Estratégias de agrupamento podem ser utilizadas devido a similaridade das entradas. São exemplos de aprendizado não supervisionado: o google news que agrupa notícias de sites distintos que se referem a um mesmo tema, o facebook estima quais são seus amigos mais próximos em função da interação com eles.\n",
    "\n",
    "\n",
    "Outro exemplo de algoritmo não supervisionado é o que separa o áudio de duas fontes distintas [Cocktail Party Algorithm](https://en.wikipedia.org/wiki/Cocktail_party_effect). Em nenhum momento é informado ao algoritmo qual trecho do áudio pertence a qual fonte. Uma generalização ocorre quando após aprender a separar a voz de duas pessoas, o algoritmo também passa a separar a voz de uma música de fundo.\n",
    "\n",
    "## Regressão"
   ]
  },
  {
   "cell_type": "code",
   "execution_count": null,
   "id": "8d607a11-e7b8-4fad-a9fb-f9f9c385e6db",
   "metadata": {},
   "outputs": [],
   "source": []
  }
 ],
 "metadata": {
  "kernelspec": {
   "display_name": "Python 3 (ipykernel)",
   "language": "python",
   "name": "python3"
  },
  "language_info": {
   "codemirror_mode": {
    "name": "ipython",
    "version": 3
   },
   "file_extension": ".py",
   "mimetype": "text/x-python",
   "name": "python",
   "nbconvert_exporter": "python",
   "pygments_lexer": "ipython3",
   "version": "3.8.10"
  }
 },
 "nbformat": 4,
 "nbformat_minor": 5
}
