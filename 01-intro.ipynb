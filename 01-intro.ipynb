{
 "cells": [
  {
   "cell_type": "markdown",
   "id": "db01b638-d827-4469-a8f2-fb3a90ad8e40",
   "metadata": {},
   "source": [
    "# Introdução\n",
    "\n",
    "Um dos primeiros sucessos comerciais em Inteligência Artificial foram os Sistemas Especialistas. Estes almejam substituir um tomador de decisão humano (o especialista) por meio da extração e formalização do processo decisório. Nestes sistemas o conhecimento é codificado em uma série de regras formais (frequentemente regras se…então) e fatos, que são utilizados para realizar inferências utilizando motores de inferência lógica.\n",
    "\n",
    "```{figure} imgs/expert_systems.png\n",
    "---\n",
    "width: 500px\n",
    "name: directive-fig\n",
    "align: center\n",
    "---\n",
    "<center>Fluxo de dados em um sistema especialista</center>\n",
    "```\n",
    "\n",
    "Entretanto existem problemas para os quais as regras não são bem definidas. Andar de biscicleta por exemplo, não existe uma definição sobre a sequência de passos a ser seguida para nos equilibrarmos, fazer curvas, desviar de buracos, etc. Neste tipo de problema a solução se dá através da tentiva e erro. \n",
    "\n",
    "Os algoritmos de aprendizado de máquina ao invés de extrair regras do especialista, coletam o histórico de informações acessíveis ao especialista e suas ações sobre estas informações para então criar \"regras\" que procuram gerar as mesmas ações a partir das informações dadas. Ao invés de explicarmos como reconhecemos uma pessoa, apenas rotulamos dezenas ou centenas de imagens da pessoa, algo muito mais fácil ainda que tedioso, e deixamos um algoritmo de aprendizado de máquina descobrir como reconhecê-la em novas fotos futuras.\n",
    "\n",
    "\n",
    "## Conceito\n",
    "\n",
    "Primeiro conceito - O Campo de estudo que dá aos computadores a habilidade de aprender sem que sejam explicitamente programados. [\\[Samuel, 1959\\]](https://www.cs.virginia.edu/~evans/greatworks/samuel1959.pdf)\n",
    "\n",
    "Formalização: Diz-se que um programa de computador aprende com a experiência E no contexto de alguma tarefa T e alguma medida de performance P, se seu desempenho em T, como foi medido por P, melhora com a experiência E. [\\[Mitchel, 1998\\]](https://www.cin.ufpe.br/~cavmj/Machine%20-%20Learning%20-%20Tom%20Mitchell.pdf)\n",
    "\n",
    "Em um filtro de spam, segundo Mitchel, a experiência E é caracterizada pelo monitoramento dos emails que o usuário marca como spam, a tarefa T pelo processo de classificação dos emails e a performance P pela quantidade de emails classificados corretamente.\n",
    "\n",
    "## Aprendizado Supervisionado\n",
    "\n",
    "Um conjunto de dados de treinamento com as entradas e suas respectivas saídas são fornecidas ao algoritmo de aprendizado. Cabe ao algoritmo determinar um modelo e assim generalizar para fornecer uma solução para problemas semelhantes. \n",
    "\n",
    "A Figura ilustra o fluxo de dados de um algoritmo de aprendizado de máquina treinado de forma supervisionada.\n",
    "\n",
    "```{figure} imgs/supervised_learning_flow.png\n",
    "---\n",
    "width: 300px\n",
    "name: supervised_learning_flow\n",
    "align: center\n",
    "---\n",
    "<center>Fluxo de dados para um treinamento supervisionado</center>\n",
    "```"
   ]
  },
  {
   "cell_type": "markdown",
   "id": "c90f63d3-25ba-473a-ac2d-ef3a9df7c1a7",
   "metadata": {},
   "source": []
  }
 ],
 "metadata": {
  "kernelspec": {
   "display_name": "Python 3 (ipykernel)",
   "language": "python",
   "name": "python3"
  },
  "language_info": {
   "codemirror_mode": {
    "name": "ipython",
    "version": 3
   },
   "file_extension": ".py",
   "mimetype": "text/x-python",
   "name": "python",
   "nbconvert_exporter": "python",
   "pygments_lexer": "ipython3",
   "version": "3.8.10"
  }
 },
 "nbformat": 4,
 "nbformat_minor": 5
}
