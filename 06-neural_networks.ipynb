{
 "cells": [
  {
   "cell_type": "markdown",
   "metadata": {},
   "source": [
    "# Redes Neurais\n",
    "\n",
    "As Redes Neurais Artificiais foram propostas inicialmente em meados de 1980 com o objetivo de imitar a forma como o cérebro humano aprende, especialmente no que se refere as conexões entre os neurônios. \n",
    "\n",
    "A ideia surgiu da observação de como partes do cerébro fisicamente vinculadas a um determinado sentido (audição, visão, tato) podem aprender a responder aos outros. Um dos experimentos realizados consistiu em redirecionar os sinais elétricos do nervo óptico (visão) para a região do cérebro responsável pela audição, o resultado surpreendente foi que, após algum tempo, a cobaia \"reaprendeu\" a enxergar. \n",
    "\n",
    "Com a adaptatividade do cérebro humano em mente o objetivo dos autores do modelo de rede neural foi o de propor uma abordagem de aprendizado aplicável a qualquer tipo de problema."
   ]
  },
  {
   "cell_type": "markdown",
   "metadata": {},
   "source": [
    "## Motivação\n",
    "\n",
    "A necessidade de um novo algoritmo para aprendizado de máquina surge de problemas não lineares com uma grande quantidade de entradas, $n > 100 $. Verificamos anteriormente que tanto a regressão linear quanto a logística podem ser adaptadas para mapearem superfícies não lineares, porém, para tanto é necessário adicionar novas entradas que representem a parcela quadrática, cúbica, ou de maior ordem conforme a superfície desejada."
   ]
  },
  {
   "cell_type": "markdown",
   "metadata": {},
   "source": [
    "Tomando como exemplo os modelos linear e quadrático apresentados abaixo é possível verificar que a não linearidade aumenta substancialmente a quantidade de parâmetros do modelo.\n",
    "\n",
    "$$h_{\\theta}(x) = \\theta_{0} + \\theta_{1} x_1 + \\theta_{2} x_2$$\n",
    "$$h_{\\theta}(x) = \\theta_{0} + \\theta_{1} x_1 + \\theta_{2} x_2 + \\theta_{3} x_1 x_2 + \\theta_{4} x_1^2 + \\theta_{5} x_2^2$$"
   ]
  },
  {
   "cell_type": "markdown",
   "metadata": {},
   "source": [
    "Para a composição de um modelo não linear de um classificador de imagens com 50x50 pixels em escala de cinza ($n = 2500$) cada entrada deve ser combinada com as demais sem repetição, ou seja:\n",
    "\n",
    "$$h_{\\theta}(x) = \\theta_0 + \\theta_1 x_1 + \\theta_2 x_1^2 + \\theta_3 x_1 x_2 + ... + \\theta x_1 x_{2500} + \\\\  \\theta x_2 + \\theta x_2^2 + \\theta x_2 x_3 + ... + \\theta x_2 x_{2500} + \\\\ ... + \\theta x_{2500} + \\theta x_{2500}^2$$"
   ]
  },
  {
   "cell_type": "markdown",
   "metadata": {},
   "source": [
    "Devido a não repetição, $x_1$ realizará 2500 combinações, $x_2$ 2499, $x_3$ 2498 e assim por diante. Em outras palavras, a quantidade de parâmetros do modelo pode ser escrita na forma de uma soma de PA somada com os (n + 1) parâmetros já existentes no modelo linear:\n",
    "\n",
    "$$k = (2500 + 2499 + 2498 + ... + 3 + 2 + 1) + (1 + 2500)$$\n",
    "$$k = \\frac{(n+1) n}{2} + (n+1) = \\frac{(n+1) (n+ 2)}{2} = 3.128.751 $$"
   ]
  },
  {
   "cell_type": "markdown",
   "metadata": {},
   "source": [
    "Ademais, caso o classificador fosse projetado para processar imagens RGB ($n = 7500$) a quantidade de parâmetros necessária giraria em torno de 28 milhões. Enfim, a quantidade absurda de parâmetros, mesmo em um exemplo simples como o ilustrado, deixa clara a necessidade de uma nova estratégia para a composição de modelos não lineares."
   ]
  },
  {
   "cell_type": "markdown",
   "metadata": {},
   "source": [
    "## Modelo"
   ]
  },
  {
   "cell_type": "markdown",
   "metadata": {},
   "source": [
    "As redes neurais são formadas por camadas, onde cada camada possui uma determinada quantidade de nodos. A primeira camada, denominada de **entrada**, recebe $x$ e possui portanto $n$ nodos. A última camada, denominada de **saída**, fornece $h_\\Theta(x)$ e possui uma quantidade de nodos igual a quantidade de saídas do modelo. As demais camadas são denominadas de **ocultas** e apresentam uma quantidade arbitrária de nodos. \n",
    "\n",
    "A título de exemplo, a Figura 1 ilustra uma rede neural com **2 nodos na camada de entrada**, **1 camada oculta com 2 nodos** e **uma camada de saída com somente 1 nodo**.\n",
    "\n",
    "<img src=\"imgs/neural_network.png\" alt=\"linear_model\" width=\"400\" style=\"display:block; margin:auto\"/>\n",
    "\n",
    "<div align=\"center\">\n",
    "Rede Neural.\n",
    "</div>"
   ]
  },
  {
   "cell_type": "markdown",
   "metadata": {},
   "source": [
    "Os nodos $a^{(j)}_i$ são identificados conforme sua posição na rede, de tal forma que $j$ representa o número da camada e $i$ a posição do nodo dentro da camada. Sendo assim, na rede exemplificada pela Figura acima os nodo $a^{(2)}_1$ e $a^{(2)}_2$ representam o primeiro e o segundo nodo da camada oculta, respectivamente."
   ]
  },
  {
   "cell_type": "markdown",
   "metadata": {},
   "source": [
    "### Propagação para Frente"
   ]
  },
  {
   "cell_type": "markdown",
   "metadata": {},
   "source": [
    "A Propagação para Frente (Forward Propagation), utilizada para determinar $h_\\Theta(x)$, se vale do fato que nas redes neurais as saídas de cada camada são conectadas as entradas da camada imediatamente posterior. \n",
    "\n",
    "O método consiste primeiramente em inserir as entradas do modelo na primeira camada da rede e em seguida realizar de forma iterativa e em direção a saída a propagação dos dados. Na propagação a saída de cada camada é dada pela combinação linear das suas entradas, ponderadas pelos parâmetros da camada e aplicada em uma **função de ativação $g(z)$**. Em outras palavras:\n",
    "\n",
    "$$a^{(1)} = x$$\n",
    "$$a^{(k)} = g(\\Theta^{(k-1)} a^{(k-1)})$$\n",
    "\n",
    "A função de ativação empregada varia conforme o tipo de problema, entretanto, quase sempre são utilizadas para refletir a característica não linear dos dados. São alguns exemplos de funções de ativação: a função simóide, a tangente hiperbólica e a ReLu.\n",
    "\n",
    "Posto isto, podemos definir a saída da camada oculta presente na Figura: \n",
    "\n",
    "$$a_1^{(2)} = g(\\Theta_{11}^{(1)} x_1 + \\Theta_{12}^{(1)} x_2)$$\n",
    "$$a_2^{(2)} = g(\\Theta_{21}^{(1)} x_1 + \\Theta_{22}^{(1)} x_2)$$\n",
    "\n",
    "$$\n",
    "\\begin{bmatrix} a_1^{(2)} \\\\ a_2^{(2)} \\end{bmatrix} =   \n",
    "g(\\begin{bmatrix} \\Theta_{11}^{(1)} & \\Theta_{12}^{(1)} \\\\\n",
    "                \\Theta_{21}^{(1)} & \\Theta_{22}^{(1)}\n",
    "\\end{bmatrix} \\begin{bmatrix} x_1 \\\\ x_2 \\end{bmatrix})\n",
    "= g(\\Theta^{(1)} x)\n",
    "$$\n",
    "\n",
    "Após, podemos escrever a saída do modelo:\n",
    "\n",
    "$$\n",
    "h_\\Theta(x) = a_1^{(3)} = g(\\Theta_{11}^{(2)} a_1^{(2)} + \\Theta_{12}^{(2)} a_2^{(2)})\n",
    "$$\n",
    "\n",
    "$$\n",
    "h_\\Theta(x) = \\begin{bmatrix} a_1^{(3)} \\end{bmatrix} =\n",
    "g(\\begin{bmatrix} \\Theta_{11}^{(2)} & \\Theta_{12}^{(2)}\n",
    "\\end{bmatrix} \\begin{bmatrix} a_1^{(2)} \\\\ a_2^{(2)} \\end{bmatrix})\n",
    "= g(\\Theta^{(2)} a^{(2)})\n",
    "$$"
   ]
  },
  {
   "cell_type": "markdown",
   "metadata": {},
   "source": [
    "## Viés (Bias)"
   ]
  },
  {
   "cell_type": "markdown",
   "metadata": {},
   "source": [
    "Em redes neurais é comum a adição de um nodo de **viés** igual a $1$ em cada uma das camadas que, diferentemente dos demais, não é conectado a camada anterior. Este nodo, representado na Figura 1 pelos nodos $x_0$ e $a_0^{(2)}$, tem como próposito fornecer maior expressividade ao modelo.\n",
    "\n",
    "<img src=\"imgs/neural_network_with_bias.png\" alt=\"linear_model\" width=\"400\" style=\"display:block; margin:auto\"/>\n",
    "\n",
    "<div align=\"center\">\n",
    "Figura 1 - Rede Neural com Viés.\n",
    "</div>\n",
    "\n",
    "O impacto do viés pode ser verificado na resposta de uma rede neural com somente um nodo e uma função de ativação linear, ilustrada pela Figura abaixo.\n",
    "\n",
    "<img src=\"imgs/bias_impact_on_neural_network.png\" alt=\"linear_model\" width=\"400\" style=\"display:block; margin:auto\"/>\n",
    "\n",
    "<div align=\"center\">\n",
    "Impacto do Bias na Rede Neural.\n",
    "</div>"
   ]
  },
  {
   "cell_type": "markdown",
   "metadata": {},
   "source": [
    "Sem o termo de viés o modelo consegue mapear somente dados que passam pela origem do plano cartesiano, enquanto que com o termo o grau de flexibilidade do modelo se torna maior. Abaixo é definido o modelo da rede neural com a presença de viés."
   ]
  },
  {
   "cell_type": "markdown",
   "metadata": {},
   "source": [
    "\n",
    "$$a_1^{(2)} = g(\\Theta_{11}^{(1)} x_0 + \\Theta_{12}^{(1)} x_1 + \\Theta_{13}^{(1)} x_2) = g(\\Theta_{11}^{(1)} + \\Theta_{12}^{(1)} x_1 + \\Theta_{13}^{(1)} x_2)$$\n",
    "$$a_2^{(2)} = g(\\Theta_{21}^{(1)} x_0 + \\Theta_{22}^{(1)} x_1 + \\Theta_{23}^{(1)} x_2) = g(\\Theta_{21}^{(1)} + \\Theta_{22}^{(1)} x_1 + \\Theta_{23}^{(1)} x_2)$$\n",
    "$$\n",
    "\n",
    "\\begin{bmatrix} a_1^{(2)} \\\\ a_2^{(2)} \\end{bmatrix} =  \n",
    "g(\\begin{bmatrix} \\Theta_{11}^{(1)} & \\Theta_{12}^{(1)} & \\Theta_{13}^{(1)} \\\\\n",
    "                \\Theta_{21}^{(1)} & \\Theta_{22}^{(1)} & \\Theta_{23}^{(1)}\n",
    "\\end{bmatrix} \\begin{bmatrix} x_0 \\\\ x_1 \\\\ x_2 \\end{bmatrix})\n",
    "= g(\\Theta^{(1)} x)\n",
    "$$\n",
    "\n",
    "$$\n",
    "h_\\Theta(x) = a_1^{(3)} = g(\\Theta_{11}^{(2)} a_0^{(2)} + \\Theta_{12}^{(2)} a_1^{(2)} + \\Theta_{13}^{(2)} a_2^{(2)}) = g(\\Theta_{11}^{(2)} + \\Theta_{12}^{(2)} a_1^{(2)} + \\Theta_{13}^{(2)} a_2^{(2)})\n",
    "$$\n",
    "\n",
    "$$\n",
    "h_\\Theta(x) = \\begin{bmatrix} a_1^{(3)} \\end{bmatrix} =\n",
    "g(\\begin{bmatrix} \\Theta_{11}^{(2)} & \\Theta_{12}^{(2)} & \\Theta_{13}^{(2)}\n",
    "\\end{bmatrix} \\begin{bmatrix} a_0^{(2)} \\\\ a_1^{(2)} \\\\ a_2^{(2)} \\end{bmatrix})\n",
    "= g(\\Theta^{(2)} a^{(2)})$$"
   ]
  },
  {
   "cell_type": "markdown",
   "metadata": {},
   "source": [
    "Cada camada possui sua própria matriz de parâmetros os quais, no contexto das redes neurais, também são chamados de **pesos**. $\\Theta^{(j)}_{r x s}$ reflete os parâmetros da camada $j$ em que $r$ é dado pela quantidade de nodos da próxima camada e $s$ pela quantidade de nodos da camada atual $+1$. "
   ]
  },
  {
   "cell_type": "markdown",
   "metadata": {},
   "source": [
    "Após a definição do modelo, uma observação se faz necessária. A última camada da rede neural possui o mesmo modelo da regressão logística, sendo assim, qual a vantagem deste tipo de abordagem ?\n",
    "\n",
    "A grande vantagem das redes neurais reside justamente na presença das camadas ocultas. O mapeamento de funções não lineares através da regressão logística era possível porém dependia da escolha adequada do polinômio, já para as redes neurais esse processo é automatizado pela fase de treinamento com a definição da matriz $\\Theta^1$.\n",
    "\n",
    "Ao invés de injetar as entradas diretamente no modelo de regressão logística, $\\Theta^1$ seleciona frações das entradas e as combina para permitir a composição de modelos altamente não lineares sem a necessidade de criação de novas entradas. "
   ]
  },
  {
   "cell_type": "markdown",
   "metadata": {},
   "source": [
    "## Classificador Binário\n",
    "\n",
    "A título de exemplo, a seguir é elaborada uma arquitetura de rede neural para classificação de dados binários segundo o operador lógico **XOR**.\n",
    "\n",
    "<img src=\"imgs/xor_data_distribution.png\" alt=\"linear_model\" width=\"400\" style=\"display:block; margin:auto\"/>\n",
    "\n",
    "<div align=\"center\">\n",
    "Distribuição de Dados do Operador XOR.\n",
    "</div>\n",
    "\n",
    "Uma forma de visualizar como modelos complexos podem ser obtidos com a adição de camadas ocultas é realizar a construção da rede de forma modular. Sendo assim, a rede neural do operado XOR é construída pelo agrupamento dos operadores **AND**, **OR** e **(NOT $x_1$) AND (NOT $x_2$)**, desenvolvidos a seguir.\n",
    "\n",
    "### Operadores AND, OR e (NOT $x_1$) AND (NOT $x_2$)\n",
    "\n",
    "Abaixo são mostrados os três operadores lógicos cuja construção é realizada com somente uma camada. Os parâmetros dos modelos são definidos de forma arbitrária e a função de ativação utilizada é a sigmóide.\n",
    "\n",
    "<table><tr>\n",
    "<td> <img src=\"imgs/ann_and.png\" alt=\"Drawing\"/> </td>\n",
    "<td> <img src=\"imgs/ann_or.png\" alt=\"Drawing\"/> </td>\n",
    "<td> <img src=\"imgs/ann_not_x1_and_not_x2.png\" alt=\"Drawing\"/> </td>\n",
    "</tr></table>\n",
    "\n",
    "<div align=\"center\">\n",
    "Redes Neurais dos Operadores Lógicos.\n",
    "</div>\n",
    "\n",
    "### Operador XOR\n",
    "\n",
    "Enfim o operador XOR pode ser contruído com a agregação dos três operadores desenvolvidos anteriormente, arranjados conforme a Figura abaixo.\n",
    "\n",
    "<img src=\"imgs/ann_xor.png\" alt=\"linear_model\" width=\"600\" style=\"display:block; margin:auto\"/>\n",
    "\n",
    "<div align=\"center\">\n",
    "Rede Neural do Operador XOR.\n",
    "</div>"
   ]
  },
  {
   "cell_type": "markdown",
   "metadata": {},
   "source": [
    "Conforme pode ser verificado na Figura acima é possível a criação de um modelo altamente não linear com a adição de somente uma camada oculta. O modelo obtido é definido a seguir:\n",
    "\n",
    "$$XOR = h_\\Theta(x) = (x_1 . x_2) | (\\neg{x_1} . \\neg{x_2})$$"
   ]
  },
  {
   "cell_type": "markdown",
   "metadata": {},
   "source": [
    "De forma geral, as camadas ocultas atuam como uma espécie de abstração do modelo de tal forma que cada camada captura determinados aspectos dos dados. Baseado nos parâmetros definidos durante a fase de treinamento, as camadas se especializam na detecção de padrões e somente enviam a informação para a camada seguinte quando o padrão é evidenciado."
   ]
  },
  {
   "cell_type": "markdown",
   "metadata": {},
   "source": [
    "## Classificador Multiclasse\n",
    "\n",
    "A composição de um classificador multiclasse através das redes neurais é realizada com a definição da camada de saída com uma quantidade de nodos igual a quantidade de classes previstas pelo problema, ou seja, $h_\\Theta(x) \\in {\\rm I\\!R}^k$ onde $k$ é igual ao número de classes.\n",
    "\n",
    "<img src=\"imgs/ann_multiclass_classifier.png\" alt=\"linear_model\" width=\"400\" style=\"display:block; margin:auto\"/>\n",
    "\n",
    "<div align=\"center\">\n",
    "Classificador Multiclasse com Redes Neurais.\n",
    "</div>"
   ]
  },
  {
   "cell_type": "markdown",
   "metadata": {},
   "source": [
    "No Exemplo da figura acima a camada de saída possui $3$ nodos, ou seja, o problema prevê $3$ classes possíveis para os dados. Cada nodo de saída fornecerá a probabilidade dos dados de entrada estarem vinculados a sua classe. Em outras palavras:\n",
    "\n",
    "$$h_\\Theta(x) = \\begin{bmatrix} 0.1 & 0.2 & 0.7\\end{bmatrix}^T $$\n",
    "\n",
    "Indica 70% de chance dos dados de entrada pertencerem a um elemento da classe iris-virginica."
   ]
  },
  {
   "cell_type": "markdown",
   "metadata": {},
   "source": [
    "### Função Custo\n",
    "\n",
    "A função custo de um modelo de rede neural para classificação multiclasse é uma expansão do modelo desenvolvido para o regressor logístico na estratégia *Um-Contra-Todos*. A diferença do modelo definido abaixo é a quantidade de saídas, afinal tanto $y$ quanto $h_\\Theta(x)$ $\\in {\\rm I\\!R}^c$ em que $c$ é igual ao número de classes do problema.\n"
   ]
  },
  {
   "cell_type": "markdown",
   "metadata": {},
   "source": [
    "$$J(\\Theta) = \\frac{-1}{m} \\sum\\limits_{i=1}^{m} \\sum\\limits_{k=1}^{c} y_k^{i} (log(h_{\\Theta}(x^{i})_k) + (1 - y_k^{i}) (log(1 - h_{\\Theta}(x^{i})_k)$$"
   ]
  },
  {
   "cell_type": "markdown",
   "metadata": {},
   "source": [
    "O objetivo desta função custo é penalizar caso qualquer uma das $c$ saídas do modelo seja diferente do esperado. Desta forma perante a seguinte situação:  \n",
    "\n",
    "$$y^i = \\begin{bmatrix} 0 & 0 & 1 \\end{bmatrix}^T$$\n",
    "$$ h_{\\Theta}(x^{i}) = \\begin{bmatrix} 1 & 0 & 0 \\end{bmatrix}^T$$\n",
    "\n",
    "Haverá uma penalização dupla, visto $h_{\\Theta}(x^{i})_0$ deveria ser $0$ e $h_{\\Theta}(x^{i})_2$ deveria ser 1."
   ]
  },
  {
   "cell_type": "markdown",
   "metadata": {},
   "source": [
    "### Treinamento\n",
    "\n",
    "A etapa de treinamento de um modelo de rede neural consiste em determinar os parâmetros $\\Theta$ que minimizam a função custo. Conforme já discutido, os algoritmos destinados a esta tarefa são os otimizadores que possuem como base comum o cálculo do gradiente. O gradiente, por sua vez, é dado pela derivada parcial do custo em relação aos parâmetros do modelo, entretanto, no caso das redes neurais cada camada possui sua própria matriz de parâmetros. \n",
    "\n",
    "Sendo assim, o gradiente será definido pela derivada parcial do custo em relação a cada um dos elementos da matriz $\\Theta^{(l)}$ em que $l$ representa o número da camada.\n",
    "\n",
    "$$\\nabla J(\\Theta) = \\frac{\\partial J(\\Theta)}{\\partial \\Theta^{(l)}_{ij}} $$"
   ]
  },
  {
   "cell_type": "markdown",
   "metadata": {},
   "source": [
    "A título de exemplo do cálculo do gradiente, será utilizada uma rede neural para classificação multiclasse com função de ativação sigmóide, 2 duas entradas, 1 camada oculta com 2 nodos e 2 saídas, mostrada na Figura abaixo:\n",
    "\n",
    "<img src=\"imgs/ann_multiclass_example.png\" alt=\"linear_model\" width=\"800\" style=\"display:block; margin:auto\"/>\n",
    "\n",
    "<div align=\"center\">\n",
    "Rede Neural com duas Saídas.\n",
    "</div>"
   ]
  },
  {
   "cell_type": "markdown",
   "metadata": {},
   "source": [
    "Primeiramente reescreveremos a função custo para denotar as duas saídas:\n",
    "\n",
    "$$J(\\Theta) = \\frac{-1}{m} \\sum\\limits_{i=1}^{m} \\sum\\limits_{k=1}^{c} y_k^{i} (log(h_{\\Theta}(x^{i})_k) + (1 - y_k^{i}) (log(1 - h_{\\Theta}(x^{i})_k)$$\n",
    "\n",
    "$$h_\\Theta(x) = a^{3}$$\n",
    "\n",
    "$$J(\\Theta) = \\frac{-1}{m} \\sum\\limits_{i=1}^{m} y_1^{i} log(a_1^{3}) + (1 - y_1^{i}) (log(1 - a_1^{3})) + y_2^{i} log(a_2^{3}) + (1 - y_2^{i}) (log(1 - a_2^{3})$$\n",
    "\n",
    "A seguir calculamos a derivada parcial para os parâmetros da camada $\\Theta^{(2)}$: \n",
    "\n",
    "$$\\frac{\\partial J(\\Theta)}{\\partial \\Theta^{(2)}_{11}} = \\frac{-1}{m} \\sum\\limits_{i=1}^{m} (\\frac{y_1^{i}}{a_1^{3}} \\frac{\\partial a_1^{3}}{\\partial \\Theta^{(2)}_{11}} + \\frac{1 - y_1^{i}}{1 - a_1^{3}} \\frac{\\partial (1 - a_1^{3})}{\\partial \\Theta^{(2)}_{11}}) + (\\frac{y_2^{i}}{a_2^{3}} \\frac{\\partial a_2^{3}}{\\partial \\Theta^{(2)}_{11}} + \\frac{1 - y_2^{i}}{1 - a_2^{3}} \\frac{\\partial (1 - a_2^{3})}{\\partial \\Theta^{(2)}_{11}})$$\n",
    "\n",
    "\n",
    "$$\\frac{\\partial J(\\Theta)}{\\partial \\Theta^{(2)}_{11}} = \\frac{-1}{m} \\sum\\limits_{i=1}^{m} (\\frac{y_1^{i}}{a_1^{3}} g(z_1^{3}) (1 - g(z_1^{3})) \\frac{\\partial (z_1^{3})}{\\partial \\Theta^{(2)}_{11}} - \\frac{1 - y_1^{i}}{1 - a_1^{3}} g(z_1^{3}) (1 - g(z_1^{3})) \\frac{\\partial (z_1^{3})}{\\partial \\Theta^{(2)}_{11}}) + \\\\\n",
    "\n",
    "(\\frac{y_2^{i}}{a_2^{3}} g(z_2^{3}) (1 - g(z_2^{3})) \\frac{\\partial (z_2^{3})}{\\partial \\Theta^{(2)}_{11}} - \\frac{1 - y_2^{i}}{1 - a_2^{3}} g(z_2^{3}) (1 - g(z_2^{3})) \\frac{\\partial (z_2^{3})}{\\partial \\Theta^{(2)}_{11}})$$"
   ]
  },
  {
   "cell_type": "markdown",
   "metadata": {},
   "source": [
    "Porém $\\frac{\\partial (z_2^{3})}{\\partial \\Theta^{(2)}_{11}} = 0$, ou seja, a variação de $\\Theta^{(2)}_{11}$ não afeta $a_2^{3}$. Sendo assim:\n",
    "\n",
    "$$\\frac{\\partial J(\\Theta)}{\\partial \\Theta^{(2)}_{11}} = \\frac{-1}{m} \\sum\\limits_{i=1}^{m} (\\frac{y_1^{i}}{a_1^{3}} g(z_1^{3}) (1 - g(z_1^{3})) \\frac{\\partial (z_1^{3})}{\\partial \\Theta^{(2)}_{11}} - \\frac{1 - y_1^{i}}{1 - a_1^{3}} g(z_1^{3}) (1 - g(z_1^{3})) \\frac{\\partial (z_1^{3})}{\\partial \\Theta^{(2)}_{11}})$$\n",
    "\n",
    "$$\\frac{\\partial J(\\Theta)}{\\partial \\Theta^{(2)}_{11}} = \\frac{-1}{m} \\sum\\limits_{i=1}^{m} \\frac{y_1^{i}}{a_1^{3}} g(z_1^{3}) (1 - g(z_1^{3})) a_1^{2} - \\frac{1 - y_1^{i}}{1 - a_1^{3}} g(z_1^{3}) (1 - g(z_1^{3})) a_1^{2}$$"
   ]
  },
  {
   "cell_type": "markdown",
   "metadata": {},
   "source": [
    "Os demais parâmetros da camada podem ser determinados de forma análoga:\n",
    "\n",
    "$$\\frac{\\partial J(\\Theta)}{\\partial \\Theta^{(2)}_{12}} = \\frac{-1}{m} \\sum\\limits_{i=1}^{m} (\\frac{y_1^{i}}{a_1^{3}} g(z_1^{3}) (1 - g(z_1^{3})) a_2^{2} - \\frac{1 - y_1^{i}}{1 - a_1^{3}} g(z_1^{3}) (1 - g(z_1^{3})) a_2^{2}$$\n",
    "$$\\frac{\\partial J(\\Theta)}{\\partial \\Theta^{(2)}_{21}} = \\frac{-1}{m} \\sum\\limits_{i=1}^{m} (\\frac{y_2^{i}}{a_2^{3}} g(z_2^{3}) (1 - g(z_2^{3})) a_1^{2} - \\frac{1 - y_2^{i}}{1 - a_2^{3}} g(z_2^{3}) (1 - g(z_2^{3})) a_1^{2}$$\n",
    "$$\\frac{\\partial J(\\Theta)}{\\partial \\Theta^{(2)}_{22}} = \\frac{-1}{m} \\sum\\limits_{i=1}^{m} (\\frac{y_2^{i}}{a_2^{3}} g(z_2^{3}) (1 - g(z_2^{3})) a_2^{2} - \\frac{1 - y_2^{i}}{1 - a_2^{3}} g(z_2^{3}) (1 - g(z_2^{3})) a_2^{2}$$"
   ]
  },
  {
   "cell_type": "markdown",
   "metadata": {},
   "source": [
    "Utilizando a regra da cadeia, definida abaixo, a notação pode ser severamente simplificada:\n",
    "\n",
    "$$\\frac{\\partial p(q(z))}{\\partial z} = \\frac{\\partial p}{\\partial q} \\frac{\\partial q}{\\partial z}$$\n",
    "\n",
    "$$\\frac{\\partial J(\\Theta)}{\\Theta^{(2)}_{11}} = \\frac{\\partial J(\\Theta)}{a_1^{(3)}} \\frac{\\partial a_1^{(3)}}{z_1^{(3)}} \\frac{\\partial z_1^{(3)}}{\\Theta^{(2)}_{11}}$$\n",
    "$$\\frac{\\partial J(\\Theta)}{\\Theta^{(2)}_{12}} = \\frac{\\partial J(\\Theta)}{a_1^{(3)}} \\frac{\\partial a_1^{(3)}}{z_1^{(3)}} \\frac{\\partial z_1^{(3)}}{\\Theta^{(2)}_{12}}$$\n",
    "$$\\frac{\\partial J(\\Theta)}{\\Theta^{(2)}_{21}} = \\frac{\\partial J(\\Theta)}{a_2^{(3)}} \\frac{\\partial a_2^{(3)}}{z_2^{(3)}} \\frac{\\partial z_2^{(3)}}{\\Theta^{(2)}_{21}}$$\n",
    "$$\\frac{\\partial J(\\Theta)}{\\Theta^{(2)}_{22}} = \\frac{\\partial J(\\Theta)}{a_2^{(3)}} \\frac{\\partial a_2^{(3)}}{z_2^{(3)}} \\frac{\\partial z_2^{(3)}}{\\Theta^{(2)}_{22}}$$"
   ]
  },
  {
   "cell_type": "markdown",
   "metadata": {},
   "source": [
    "Para a determinação dos parâmetros da primeira camada é importante observar que a matriz $\\Theta^{(1)}$ afeta ambas as saídas de $a^{(3)}$, além de uma das saídas $a^{(2)}$. Posto isto, a seguir os parâmetros são definidos em função das derivadas parciais conforme postulado pela regra da cadeia. "
   ]
  },
  {
   "cell_type": "markdown",
   "metadata": {},
   "source": [
    "$$\\frac{\\partial J(\\Theta)}{\\Theta^{(1)}_{11}} = \\frac{\\partial J(\\Theta)}{a_1^{(3)}} \\frac{\\partial a_1^{(3)}}{z_1^{(3)}} \\frac{\\partial z_1^{(3)}}{a^{(2)}_{1}} \\frac{\\partial a_1^{(2)}}{z_1^{(2)}} \\frac{\\partial z_1^{(2)}}{\\Theta^{(1)}_{11}} + \\frac{\\partial J(\\Theta)}{a_2^{(3)}} \\frac{\\partial a_2^{(3)}}{z_2^{(3)}} \\frac{\\partial z_2^{(3)}}{a^{(2)}_{1}} \\frac{\\partial a_1^{(2)}}{z_1^{(2)}} \\frac{\\partial z_1^{(2)}}{\\Theta^{(1)}_{11}}$$\n",
    "\n",
    "$$\\frac{\\partial J(\\Theta)}{\\Theta^{(1)}_{12}} = \\frac{\\partial J(\\Theta)}{a_1^{(3)}} \\frac{\\partial a_1^{(3)}}{z_1^{(3)}} \\frac{\\partial z_1^{(3)}}{a^{(2)}_{1}} \\frac{\\partial a_1^{(2)}}{z_1^{(2)}} \\frac{\\partial z_1^{(2)}}{\\Theta^{(1)}_{12}} + \\frac{\\partial J(\\Theta)}{a_2^{(3)}} \\frac{\\partial a_2^{(3)}}{z_2^{(3)}} \\frac{\\partial z_2^{(3)}}{a^{(2)}_{1}} \\frac{\\partial a_1^{(2)}}{z_1^{(2)}} \\frac{\\partial z_1^{(2)}}{\\Theta^{(1)}_{12}}$$\n",
    "\n",
    "$$\\frac{\\partial J(\\Theta)}{\\Theta^{(1)}_{21}} = \\frac{\\partial J(\\Theta)}{a_1^{(3)}} \\frac{\\partial a_1^{(3)}}{z_1^{(3)}} \\frac{\\partial z_1^{(3)}}{a^{(2)}_{2}} \\frac{\\partial a_2^{(2)}}{z_2^{(2)}} \\frac{\\partial z_2^{(2)}}{\\Theta^{(1)}_{21}} + \\frac{\\partial J(\\Theta)}{a_2^{(3)}} \\frac{\\partial a_2^{(3)}}{z_2^{(3)}} \\frac{\\partial z_2^{(3)}}{a^{(2)}_{2}} \\frac{\\partial a_2^{(2)}}{z_2^{(2)}} \\frac{\\partial z_2^{(2)}}{\\Theta^{(1)}_{21}}$$\n",
    "\n",
    "$$\\frac{\\partial J(\\Theta)}{\\Theta^{(1)}_{22}} = \\frac{\\partial J(\\Theta)}{a_1^{(3)}} \\frac{\\partial a_1^{(3)}}{z_1^{(3)}} \\frac{\\partial z_1^{(3)}}{a^{(2)}_{2}} \\frac{\\partial a_2^{(2)}}{z_2^{(2)}} \\frac{\\partial z_2^{(2)}}{\\Theta^{(1)}_{22}} + \\frac{\\partial J(\\Theta)}{a_2^{(3)}} \\frac{\\partial a_2^{(3)}}{z_2^{(3)}} \\frac{\\partial z_2^{(3)}}{a^{(2)}_{2}} \\frac{\\partial a_2^{(2)}}{z_2^{(2)}} \\frac{\\partial z_2^{(2)}}{\\Theta^{(1)}_{22}}$$"
   ]
  },
  {
   "cell_type": "markdown",
   "metadata": {},
   "source": [
    "Com a análise dos parâmetros obtidos acima é possível constatar o alto custo computacional desta estratégia. Afinal mesmo para um modelo simples como o apresentado, com somente $8$ parâmetros, é necessária a solução de $52$ derivadas parciais.  \n",
    "\n",
    "Entretanto também é possível verificar que uma série destas derivadas se repetem. Sendo assim, a seguir é apresentado o algoritmo denominado de **Retropropagação**, utilizado para garantir a eficiência da etapa de treinamento das redes neurais."
   ]
  },
  {
   "cell_type": "markdown",
   "metadata": {},
   "source": [
    "### Retropropagação\n",
    "\n",
    "A retropopagação (backpropagation) rescreve as derivadas parciais dos parâmetros do modelo para garantir a reutilização dos termos que se repetem. Iniciando pelos parâmetros da segunda camada, é possível verificar que as duas primeiras colunas se repetem e podem ser reescritas conforme segue: "
   ]
  },
  {
   "cell_type": "markdown",
   "metadata": {},
   "source": [
    "$$ \\frac{\\partial J(\\Theta)}{a_i^{(3)}} \\frac{\\partial a_i^{(3)}}{z_i^{(3)}} = \\delta_i^{(3)} = \\frac{-1}{m} (\\frac{y_i^{i}}{a_i^{3}} - \\frac{1 - y_i^{i}}{1 - a_i^{3}}) g'(a_i^{3})$$"
   ]
  },
  {
   "cell_type": "markdown",
   "metadata": {},
   "source": [
    "Reescrevendo os parâmetros da segunda camada segundo a nova notação:\n",
    "\n",
    "$$\\frac{\\partial J(\\Theta)}{\\Theta^{(2)}_{11}} = \\delta_1^{(3)} \\frac{\\partial z_1^{(3)}}{\\Theta^{(2)}_{11}} = \\delta_1^{(3)} a_1^{(2)}$$\n",
    "$$\\frac{\\partial J(\\Theta)}{\\Theta^{(2)}_{12}} = \\delta_1^{(3)} \\frac{\\partial z_1^{(3)}}{\\Theta^{(2)}_{12}} = \\delta_1^{(3)} a_2^{(2)}$$\n",
    "$$\\frac{\\partial J(\\Theta)}{\\Theta^{(2)}_{21}} = \\delta_2^{(3)} \\frac{\\partial z_2^{(3)}}{\\Theta^{(2)}_{21}} = \\delta_2^{(3)} a_1^{(2)}$$\n",
    "$$\\frac{\\partial J(\\Theta)}{\\Theta^{(2)}_{22}} = \\delta_2^{(3)} \\frac{\\partial z_2^{(3)}}{\\Theta^{(2)}_{22}} = \\delta_2^{(3)} a_2^{(2)}$$"
   ]
  },
  {
   "cell_type": "markdown",
   "metadata": {},
   "source": [
    "Enfim, os parâmetros da segunda camada podem ser definidos conforme segue:\n",
    "\n",
    "$$\\frac{\\partial J(\\Theta)}{\\Theta^{(2)}_{jk}} = \\delta_j^{(3)} a_k^{(2)}$$\n"
   ]
  },
  {
   "cell_type": "markdown",
   "metadata": {},
   "source": []
  }
 ],
 "metadata": {
  "kernelspec": {
   "display_name": "Python 3.10.4 64-bit",
   "language": "python",
   "name": "python3"
  },
  "language_info": {
   "name": "python",
   "version": "3.9.13"
  },
  "orig_nbformat": 4,
  "vscode": {
   "interpreter": {
    "hash": "916dbcbb3f70747c44a77c7bcd40155683ae19c65e1c03b4aa3499c5328201f1"
   }
  }
 },
 "nbformat": 4,
 "nbformat_minor": 2
}
