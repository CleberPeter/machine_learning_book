{
 "cells": [
  {
   "cell_type": "markdown",
   "metadata": {},
   "source": [
    "# Redes Neurais\n",
    "\n",
    "As Redes Neurais Artificiais foram propostas inicialmente em meados de 1980 com o objetivo de imitar a forma como o cérebro humano aprende, especialmente no que se refere as conexões entre os neurônios. \n",
    "\n",
    "A ideia surgiu da observação de como partes do cerébro fisicamente vinculadas a um determinado sentido (audição, visão, tato) podem aprender a responder aos outros. Um dos experimentos realizados consistiu em redirecionar os sinais elétricos do nervo óptico (visão) para a região do cérebro responsável pela audição, o resultado surpreendente foi que, após algum tempo, a cobaia \"reaprendeu\" a enxergar. \n",
    "\n",
    "Com a adaptatividade do cérebro humano em mente o objetivo dos autores do modelo de rede neural foi o de propor uma abordagem de aprendizado aplicável a qualquer tipo de problema."
   ]
  },
  {
   "cell_type": "markdown",
   "metadata": {},
   "source": [
    "## Motivação\n",
    "\n",
    "A necessidade de um novo algoritmo para aprendizado de máquina surge de problemas não lineares com uma grande quantidade de entradas, $n > 100 $. Verificamos anteriormente que tanto a regressão linear quanto a logística podem ser adaptadas para mapearem superfícies não lineares, porém, para tanto é necessário adicionar novas entradas que representem a parcela quadrática, cúbica, ou de maior ordem conforme a superfície desejada."
   ]
  },
  {
   "cell_type": "markdown",
   "metadata": {},
   "source": [
    "Tomando como exemplo os modelos linear e quadrático apresentados abaixo é possível verificar que a não linearidade aumenta substancialmente a quantidade de parâmetros do modelo.\n",
    "\n",
    "$$h_{\\theta}(x) = \\theta_{0} + \\theta_{1} x_1 + \\theta_{2} x_2$$\n",
    "$$h_{\\theta}(x) = \\theta_{0} + \\theta_{1} x_1 + \\theta_{2} x_2 + \\theta_{3} x_1 x_2 + \\theta_{4} x_1^2 + \\theta_{5} x_2^2$$"
   ]
  },
  {
   "cell_type": "markdown",
   "metadata": {},
   "source": [
    "Para a composição de um modelo não linear de um classificador de imagens com 50x50 pixels em escala de cinza ($n = 2500$) cada entrada deve ser combinada com as demais sem repetição, ou seja:\n",
    "\n",
    "$$h_{\\theta}(x) = \\theta_0 + \\theta_1 x_1 + \\theta_2 x_1^2 + \\theta_3 x_1 x_2 + ... + \\theta x_1 x_{2500} + \\\\  \\theta x_2 + \\theta x_2^2 + \\theta x_2 x_3 + ... + \\theta x_2 x_{2500} + \\\\ ... + \\theta x_{2500} + \\theta x_{2500}^2$$"
   ]
  },
  {
   "cell_type": "markdown",
   "metadata": {},
   "source": [
    "Devido a não repetição, $x_1$ realizará 2500 combinações, $x_2$ 2499, $x_3$ 2498 e assim por diante. Em outras palavras, a quantidade de parâmetros do modelo pode ser escrita na forma de uma soma de PA somada com os (n + 1) parâmetros já existentes no modelo linear:\n",
    "\n",
    "$$k = (2500 + 2499 + 2498 + ... + 3 + 2 + 1) + (1 + 2500)$$\n",
    "$$k = \\frac{(n+1) n}{2} + (n+1) = \\frac{(n+1) (n+ 2)}{2} = 3.128.751 $$"
   ]
  },
  {
   "cell_type": "markdown",
   "metadata": {},
   "source": [
    "Ademais, caso o classificador fosse projetado para processar imagens RGB ($n = 7500$) a quantidade de parâmetros necessária giraria em torno de 28 milhões. Enfim, a quantidade absurda de parâmetros, mesmo em um exemplo simples como o ilustrado, deixa clara a necessidade de uma nova estratégia para a composição de modelos não lineares."
   ]
  },
  {
   "cell_type": "markdown",
   "metadata": {},
   "source": [
    "## Modelo"
   ]
  },
  {
   "cell_type": "markdown",
   "metadata": {},
   "source": [
    "As redes neurais são formadas por camadas, onde cada camada possui uma determinada quantidade de nodos. A primeira camada, denominada de **entrada**, recebe $x$ e possui portanto $n$ nodos. A última camada, denominada de **saída**, fornece $h_\\Theta(x)$ e possui uma quantidade de nodos igual a quantidade de saídas do modelo. As demais camadas são denominadas de **ocultas** e apresentam uma quantidade arbitrária de nodos. \n",
    "\n",
    "A título de exemplo, a Figura 1 ilustra uma rede neural com **2 nodos na camada de entrada**, **1 camada oculta com 2 nodos** e **uma camada de saída com somente 1 nodo**.\n",
    "\n",
    "<img src=\"imgs/neural_network.png\" alt=\"linear_model\" width=\"400\" style=\"display:block; margin:auto\"/>\n",
    "\n",
    "<div align=\"center\">\n",
    "Rede Neural.\n",
    "</div>"
   ]
  },
  {
   "cell_type": "markdown",
   "metadata": {},
   "source": [
    "Os nodos $a^{(j)}_i$ são identificados conforme sua posição na rede, de tal forma que $j$ representa o número da camada e $i$ a posição do nodo dentro da camada. Sendo assim, na rede exemplificada pela Figura acima os nodo $a^{(2)}_1$ e $a^{(2)}_2$ representam o primeiro e o segundo nodo da camada oculta, respectivamente."
   ]
  },
  {
   "cell_type": "markdown",
   "metadata": {},
   "source": [
    "### Propagação para Frente"
   ]
  },
  {
   "cell_type": "markdown",
   "metadata": {},
   "source": [
    "A Propagação para Frente (Forward Propagation), utilizada para determinar $h_\\Theta(x)$, se vale do fato que nas redes neurais as saídas de cada camada são conectadas as entradas da camada imediatamente posterior. \n",
    "\n",
    "O método consiste primeiramente em inserir as entradas do modelo na primeira camada da rede e em seguida realizar de forma iterativa e em direção a saída a propagação dos dados. Na propagação a saída de cada camada é dada pela combinação linear das suas entradas, ponderadas pelos parâmetros da camada e aplicada em uma **função de ativação $g(z)$**. Em outras palavras:\n",
    "\n",
    "$$a^{(1)} = x$$\n",
    "$$a^{(k)} = g(\\Theta^{(k-1)} a^{(k-1)})$$\n",
    "\n",
    "A função de ativação empregada varia conforme o tipo de problema, entretanto, quase sempre são utilizadas para refletir a característica não linear dos dados. São alguns exemplos de funções de ativação: a função sigmóide, a tangente hiperbólica e a ReLu.\n",
    "\n",
    "Posto isto, podemos definir a saída da camada oculta presente na Figura: \n",
    "\n",
    "$$a_1^{(2)} = g(\\Theta_{11}^{(1)} x_1 + \\Theta_{12}^{(1)} x_2)$$\n",
    "$$a_2^{(2)} = g(\\Theta_{21}^{(1)} x_1 + \\Theta_{22}^{(1)} x_2)$$\n",
    "\n",
    "$$\n",
    "\\begin{bmatrix} a_1^{(2)} \\\\ a_2^{(2)} \\end{bmatrix} =   \n",
    "g(\\begin{bmatrix} \\Theta_{11}^{(1)} & \\Theta_{12}^{(1)} \\\\\n",
    "                \\Theta_{21}^{(1)} & \\Theta_{22}^{(1)}\n",
    "\\end{bmatrix} \\begin{bmatrix} x_1 \\\\ x_2 \\end{bmatrix})\n",
    "= g(\\Theta^{(1)} x)\n",
    "$$\n",
    "\n",
    "Após, podemos escrever a saída do modelo:\n",
    "\n",
    "$$\n",
    "h_\\Theta(x) = a_1^{(3)} = g(\\Theta_{11}^{(2)} a_1^{(2)} + \\Theta_{12}^{(2)} a_2^{(2)})\n",
    "$$\n",
    "\n",
    "$$\n",
    "h_\\Theta(x) = \\begin{bmatrix} a_1^{(3)} \\end{bmatrix} =\n",
    "g(\\begin{bmatrix} \\Theta_{11}^{(2)} & \\Theta_{12}^{(2)}\n",
    "\\end{bmatrix} \\begin{bmatrix} a_1^{(2)} \\\\ a_2^{(2)} \\end{bmatrix})\n",
    "= g(\\Theta^{(2)} a^{(2)})\n",
    "$$"
   ]
  },
  {
   "cell_type": "markdown",
   "metadata": {},
   "source": [
    "## Viés (Bias)"
   ]
  },
  {
   "cell_type": "markdown",
   "metadata": {},
   "source": [
    "Em redes neurais é comum a adição de um nodo de **viés** igual a $1$ em cada uma das camadas que, diferentemente dos demais, não é conectado a camada anterior. Este nodo, representado na Figura 1 pelos nodos $x_0$ e $a_0^{(2)}$, tem como próposito fornecer maior expressividade ao modelo.\n",
    "\n",
    "<img src=\"imgs/neural_network_with_bias.png\" alt=\"linear_model\" width=\"400\" style=\"display:block; margin:auto\"/>\n",
    "\n",
    "<div align=\"center\">\n",
    "Figura 1 - Rede Neural com Viés.\n",
    "</div>\n",
    "\n",
    "O impacto do viés pode ser verificado na resposta de uma rede neural com somente um nodo e uma função de ativação linear, ilustrada pela Figura abaixo.\n",
    "\n",
    "<img src=\"imgs/bias_impact_on_neural_network.png\" alt=\"linear_model\" width=\"400\" style=\"display:block; margin:auto\"/>\n",
    "\n",
    "<div align=\"center\">\n",
    "Impacto do Bias na Rede Neural.\n",
    "</div>"
   ]
  },
  {
   "cell_type": "markdown",
   "metadata": {},
   "source": [
    "Sem o termo de viés o modelo consegue mapear somente dados que passam pela origem do plano cartesiano, enquanto que com o termo o grau de flexibilidade do modelo se torna maior. Abaixo é definido o modelo da rede neural com a presença de viés."
   ]
  },
  {
   "cell_type": "markdown",
   "metadata": {},
   "source": [
    "\n",
    "$$a_1^{(2)} = g(\\Theta_{11}^{(1)} x_0 + \\Theta_{12}^{(1)} x_1 + \\Theta_{13}^{(1)} x_2) = g(\\Theta_{11}^{(1)} + \\Theta_{12}^{(1)} x_1 + \\Theta_{13}^{(1)} x_2)$$\n",
    "$$a_2^{(2)} = g(\\Theta_{21}^{(1)} x_0 + \\Theta_{22}^{(1)} x_1 + \\Theta_{23}^{(1)} x_2) = g(\\Theta_{21}^{(1)} + \\Theta_{22}^{(1)} x_1 + \\Theta_{23}^{(1)} x_2)$$\n",
    "$$\n",
    "\n",
    "\\begin{bmatrix} a_1^{(2)} \\\\ a_2^{(2)} \\end{bmatrix} =  \n",
    "g(\\begin{bmatrix} \\Theta_{11}^{(1)} & \\Theta_{12}^{(1)} & \\Theta_{13}^{(1)} \\\\\n",
    "                \\Theta_{21}^{(1)} & \\Theta_{22}^{(1)} & \\Theta_{23}^{(1)}\n",
    "\\end{bmatrix} \\begin{bmatrix} x_0 \\\\ x_1 \\\\ x_2 \\end{bmatrix})\n",
    "= g(\\Theta^{(1)} x)\n",
    "$$\n",
    "\n",
    "$$\n",
    "h_\\Theta(x) = a_1^{(3)} = g(\\Theta_{11}^{(2)} a_0^{(2)} + \\Theta_{12}^{(2)} a_1^{(2)} + \\Theta_{13}^{(2)} a_2^{(2)}) = g(\\Theta_{11}^{(2)} + \\Theta_{12}^{(2)} a_1^{(2)} + \\Theta_{13}^{(2)} a_2^{(2)})\n",
    "$$\n",
    "\n",
    "$$\n",
    "h_\\Theta(x) = \\begin{bmatrix} a_1^{(3)} \\end{bmatrix} =\n",
    "g(\\begin{bmatrix} \\Theta_{11}^{(2)} & \\Theta_{12}^{(2)} & \\Theta_{13}^{(2)}\n",
    "\\end{bmatrix} \\begin{bmatrix} a_0^{(2)} \\\\ a_1^{(2)} \\\\ a_2^{(2)} \\end{bmatrix})\n",
    "= g(\\Theta^{(2)} a^{(2)})$$"
   ]
  },
  {
   "cell_type": "markdown",
   "metadata": {},
   "source": [
    "Cada camada possui sua própria matriz de parâmetros os quais, no contexto das redes neurais, também são chamados de **pesos**. $\\Theta^{(j)}_{r x s}$ reflete os parâmetros da camada $j$ em que $r$ é dado pela quantidade de nodos da próxima camada e $s$ pela quantidade de nodos da camada atual $+1$. "
   ]
  },
  {
   "cell_type": "markdown",
   "metadata": {},
   "source": [
    "O script a seguir implementa a propagação para frente:"
   ]
  },
  {
   "cell_type": "code",
   "execution_count": 13,
   "metadata": {},
   "outputs": [],
   "source": [
    "import numpy as np\n",
    "def add_ones_column(x):\n",
    "    \"\"\"\n",
    "    Append ones on first column ([a b c] -> [1 a b c])\n",
    "    Arguments:\n",
    "        x: np.array (mxn)\n",
    "    Returns:\n",
    "        np.array (mxn+1)\n",
    "    \"\"\"\n",
    "    [m, n] = np.shape(x)\n",
    "    new_x = np.zeros([m, n+1])\n",
    "    new_x[:,0] = np.ones(m)\n",
    "    new_x[:,1:] = x[:, 0:]\n",
    "\n",
    "    return new_x\n",
    "\n",
    "def sigmoid(z):\n",
    "    \"\"\"\n",
    "    Logistic function\n",
    "    Arguments:\n",
    "        z: np.array (mx1)\n",
    "    Returns:\n",
    "        np.array (mx1)\n",
    "    \"\"\"\n",
    "    return 1/(1 + np.exp(-z))\n",
    "\n",
    "def forward_propagation(x, o_list):\n",
    "    \"\"\"\n",
    "    Forward Propagation\n",
    "    Arguments:\n",
    "        x: np.array (mxn)\n",
    "        o_list: list of np.array (rxs). \n",
    "                First should be r = n+1 and last s = k \n",
    "    Returns:\n",
    "        list of np.array (mxs)\n",
    "    \"\"\"\n",
    "    x = add_ones_column(x) # bias\n",
    "    a_l = x\n",
    "    a = [a_l]\n",
    "    for o in o_list:\n",
    "        a_l = sigmoid(np.dot(a_l, o))\n",
    "        a_l = add_ones_column(a_l) # bias\n",
    "        a.append(a_l)\n",
    "    \n",
    "    a[-1] = a[-1][:, 1:] # remove bias from output\n",
    "    return a"
   ]
  },
  {
   "cell_type": "markdown",
   "metadata": {},
   "source": [
    "Após a definição do modelo, uma observação se faz necessária. A última camada da rede neural possui o mesmo modelo da regressão logística, sendo assim, qual a vantagem deste tipo de abordagem ?\n",
    "\n",
    "A grande vantagem das redes neurais reside justamente na presença das camadas ocultas. O mapeamento de funções não lineares através da regressão logística era possível porém dependia da escolha adequada do polinômio, já para as redes neurais esse processo é automatizado pela fase de treinamento com a definição da matriz $\\Theta^1$.\n",
    "\n",
    "Ao invés de injetar as entradas diretamente no modelo de regressão logística, $\\Theta^1$ seleciona frações das entradas e as combina para permitir a composição de modelos altamente não lineares sem a necessidade de criação de novas entradas. "
   ]
  },
  {
   "cell_type": "markdown",
   "metadata": {},
   "source": [
    "## Classificador Binário\n",
    "\n",
    "A título de exemplo, a seguir é elaborada uma arquitetura de rede neural para classificação de dados binários segundo o operador lógico **XOR**.\n",
    "\n",
    "<img src=\"imgs/xor_data_distribution.png\" alt=\"linear_model\" width=\"400\" style=\"display:block; margin:auto\"/>\n",
    "\n",
    "<div align=\"center\">\n",
    "Distribuição de Dados do Operador XOR.\n",
    "</div>\n",
    "\n",
    "Uma forma de visualizar como modelos complexos podem ser obtidos com a adição de camadas ocultas é realizar a construção da rede de forma modular. Sendo assim, a rede neural do operado XOR é construída pelo agrupamento dos operadores **AND**, **OR** e **(NOT $x_1$) AND (NOT $x_2$)**, desenvolvidos a seguir.\n",
    "\n",
    "### Operadores AND, OR e (NOT $x_1$) AND (NOT $x_2$)\n",
    "\n",
    "Abaixo são mostrados os três operadores lógicos cuja construção é realizada com somente uma camada. Os parâmetros dos modelos são definidos de forma arbitrária e a função de ativação utilizada é a sigmóide.\n",
    "\n",
    "<table><tr>\n",
    "<td> <img src=\"imgs/ann_and.png\" alt=\"Drawing\"/> </td>\n",
    "<td> <img src=\"imgs/ann_or.png\" alt=\"Drawing\"/> </td>\n",
    "<td> <img src=\"imgs/ann_not_x1_and_not_x2.png\" alt=\"Drawing\"/> </td>\n",
    "</tr></table>\n",
    "\n",
    "<div align=\"center\">\n",
    "Redes Neurais dos Operadores Lógicos.\n",
    "</div>\n",
    "\n",
    "### Operador XOR\n",
    "\n",
    "Enfim o operador XOR pode ser contruído com a agregação dos três operadores desenvolvidos anteriormente, arranjados conforme a Figura abaixo.\n",
    "\n",
    "<img src=\"imgs/ann_xor.png\" alt=\"linear_model\" width=\"600\" style=\"display:block; margin:auto\"/>\n",
    "\n",
    "<div align=\"center\">\n",
    "Rede Neural do Operador XOR.\n",
    "</div>"
   ]
  },
  {
   "cell_type": "markdown",
   "metadata": {},
   "source": [
    "Conforme pode ser verificado na Figura acima é possível a criação de um modelo altamente não linear com a adição de somente uma camada oculta. O modelo obtido é definido a seguir:\n",
    "\n",
    "$$XOR = h_\\Theta(x) = (x_1 . x_2) | (\\neg{x_1} . \\neg{x_2})$$"
   ]
  },
  {
   "cell_type": "markdown",
   "metadata": {},
   "source": [
    "O script abaixo comprova o funcionamento do modelo:"
   ]
  },
  {
   "cell_type": "code",
   "execution_count": 14,
   "metadata": {},
   "outputs": [
    {
     "name": "stdout",
     "output_type": "stream",
     "text": [
      "[[9.99954561e-01]\n",
      " [4.54803785e-05]\n",
      " [4.54803785e-05]\n",
      " [9.99954561e-01]]\n"
     ]
    }
   ],
   "source": [
    "# XOR operator\n",
    "\n",
    "x = np.array([[0, 0], [0, 1], [1, 0], [1, 1]]) # 4x2\n",
    "\n",
    "o_list = []\n",
    "o_1 = np.array([[-30, 10], [20, -20], [20, -20]]) # 3x2\n",
    "o_list.append(o_1)\n",
    "o_2 = np.array([[-10], [20], [20]]) # 3x1\n",
    "o_list.append(o_2)\n",
    "\n",
    "print(forward_propagation(x, o_list)[-1])"
   ]
  },
  {
   "cell_type": "markdown",
   "metadata": {},
   "source": [
    "De forma geral, as camadas ocultas atuam como uma espécie de abstração do modelo de tal forma que cada camada captura determinados aspectos dos dados. Baseado nos parâmetros definidos durante a fase de treinamento, as camadas se especializam na detecção de padrões e somente enviam a informação para a camada seguinte quando o padrão é observado."
   ]
  },
  {
   "cell_type": "markdown",
   "metadata": {},
   "source": [
    "## Classificador Multiclasse\n",
    "\n",
    "A composição de um classificador multiclasse através das redes neurais é realizada com a definição da camada de saída com uma quantidade de nodos igual a quantidade de classes previstas pelo problema, ou seja, $h_\\Theta(x) \\in {\\rm I\\!R}^k$ onde $k$ é igual ao número de classes.\n",
    "\n",
    "<img src=\"imgs/ann_multiclass_classifier.png\" alt=\"linear_model\" width=\"400\" style=\"display:block; margin:auto\"/>\n",
    "\n",
    "<div align=\"center\">\n",
    "Classificador Multiclasse com Redes Neurais.\n",
    "</div>"
   ]
  },
  {
   "cell_type": "markdown",
   "metadata": {},
   "source": [
    "No Exemplo da figura acima a camada de saída possui $3$ nodos, ou seja, o problema prevê $3$ classes possíveis para os dados. Cada nodo de saída fornecerá a probabilidade dos dados de entrada estarem vinculados a sua classe. Em outras palavras:\n",
    "\n",
    "$$h_\\Theta(x) = \\begin{bmatrix} 0.1 & 0.2 & 0.7\\end{bmatrix}^T $$\n",
    "\n",
    "Indica 70% de chance dos dados de entrada pertencerem a um elemento da classe iris-virginica."
   ]
  },
  {
   "cell_type": "markdown",
   "metadata": {},
   "source": [
    "### Função Custo\n",
    "\n",
    "A função custo de um modelo de rede neural para classificação multiclasse é uma expansão do modelo desenvolvido para o regressor logístico na estratégia *Um-Contra-Todos*. A diferença do modelo definido abaixo é a quantidade de saídas, afinal tanto $y$ quanto $h_\\Theta(x)$ $\\in {\\rm I\\!R}^c$ em que $c$ é igual ao número de classes do problema.\n"
   ]
  },
  {
   "cell_type": "markdown",
   "metadata": {},
   "source": [
    "$$J(\\Theta) = \\frac{1}{m} \\sum\\limits_{i=1}^{m} \\sum\\limits_{k=1}^{c} -y_k^{i} (log(h_{\\Theta}(x^{i})_k) - (1 - y_k^{i}) (log(1 - h_{\\Theta}(x^{i})_k)$$"
   ]
  },
  {
   "cell_type": "markdown",
   "metadata": {},
   "source": [
    "O objetivo desta função custo é penalizar caso qualquer uma das $c$ saídas do modelo seja diferente do esperado. Desta forma perante a seguinte situação:  \n",
    "\n",
    "$$y^i = \\begin{bmatrix} 0 & 0 & 1 \\end{bmatrix}^T$$\n",
    "$$ h_{\\Theta}(x^{i}) = \\begin{bmatrix} 1 & 0 & 0 \\end{bmatrix}^T$$\n",
    "\n",
    "Haverá uma penalização dupla, visto $h_{\\Theta}(x^{i})_0$ deveria ser $0$ e $h_{\\Theta}(x^{i})_2$ deveria ser 1."
   ]
  },
  {
   "cell_type": "markdown",
   "metadata": {},
   "source": [
    "### Treinamento\n",
    "\n",
    "A etapa de treinamento de um modelo de rede neural consiste em determinar os parâmetros $\\Theta$ que minimizam a função custo. Conforme já discutido, os algoritmos destinados a esta tarefa são os otimizadores que possuem como base comum o cálculo do gradiente. O gradiente, por sua vez, é dado pela derivada parcial do custo em relação aos parâmetros do modelo, entretanto, no caso das redes neurais cada camada possui sua própria matriz de parâmetros. \n",
    "\n",
    "Sendo assim, o gradiente será definido pela derivada parcial do custo em relação a cada um dos elementos da matriz $\\Theta^{(l)}$ em que $l$ representa o número da camada.\n",
    "\n",
    "$$\\nabla J(\\Theta) = \\frac{\\partial J(\\Theta)}{\\partial \\Theta^{(l)}_{ij}} $$"
   ]
  },
  {
   "cell_type": "markdown",
   "metadata": {},
   "source": [
    "A título de exemplo do cálculo do gradiente, será utilizada uma rede neural para classificação multiclasse com função de ativação sigmóide, 2 duas entradas, 1 camada oculta com 2 nodos e 2 saídas, mostrada na Figura abaixo:\n",
    "\n",
    "<img src=\"imgs/ann_multiclass_example.png\" alt=\"linear_model\" width=\"800\" style=\"display:block; margin:auto\"/>\n",
    "\n",
    "<div align=\"center\">\n",
    "Rede Neural com duas Saídas.\n",
    "</div>"
   ]
  },
  {
   "cell_type": "markdown",
   "metadata": {},
   "source": [
    "Primeiramente reescreveremos a função custo para denotar as duas saídas:\n",
    "\n",
    "$$J(\\Theta) = \\frac{1}{m} \\sum\\limits_{i=1}^{m} \\sum\\limits_{k=1}^{c} -y_k^{i} (log(h_{\\Theta}(x^{i})_k) - (1 - y_k^{i}) (log(1 - h_{\\Theta}(x^{i})_k)$$\n",
    "\n",
    "$$h_\\Theta(x) = a^{3}$$\n",
    "\n",
    "$$J(\\Theta) = \\frac{-1}{m} \\sum\\limits_{i=1}^{m} y_1^{i} log(a_1^{3}) + (1 - y_1^{i}) (log(1 - a_1^{3})) + y_2^{i} log(a_2^{3}) + (1 - y_2^{i}) (log(1 - a_2^{3})$$\n",
    "\n",
    "A seguir calculamos a derivada parcial para os parâmetros da camada $\\Theta^{(2)}$: \n",
    "\n",
    "$$\\frac{\\partial J(\\Theta)}{\\partial \\Theta^{(2)}_{11}} = \\frac{-1}{m} \\sum\\limits_{i=1}^{m} (\\frac{y_1^{i}}{a_1^{3}} \\frac{\\partial a_1^{3}}{\\partial \\Theta^{(2)}_{11}} + \\frac{1 - y_1^{i}}{1 - a_1^{3}} \\frac{\\partial (1 - a_1^{3})}{\\partial \\Theta^{(2)}_{11}}) + (\\frac{y_2^{i}}{a_2^{3}} \\frac{\\partial a_2^{3}}{\\partial \\Theta^{(2)}_{11}} + \\frac{1 - y_2^{i}}{1 - a_2^{3}} \\frac{\\partial (1 - a_2^{3})}{\\partial \\Theta^{(2)}_{11}})$$\n",
    "\n",
    "\n",
    "$$\\frac{\\partial J(\\Theta)}{\\partial \\Theta^{(2)}_{11}} = \\frac{-1}{m} \\sum\\limits_{i=1}^{m} (\\frac{y_1^{i}}{a_1^{3}} g(z_1^{3}) (1 - g(z_1^{3})) \\frac{\\partial (z_1^{3})}{\\partial \\Theta^{(2)}_{11}} - \\frac{1 - y_1^{i}}{1 - a_1^{3}} g(z_1^{3}) (1 - g(z_1^{3})) \\frac{\\partial (z_1^{3})}{\\partial \\Theta^{(2)}_{11}}) + \\\\\n",
    "\n",
    "(\\frac{y_2^{i}}{a_2^{3}} g(z_2^{3}) (1 - g(z_2^{3})) \\frac{\\partial (z_2^{3})}{\\partial \\Theta^{(2)}_{11}} - \\frac{1 - y_2^{i}}{1 - a_2^{3}} g(z_2^{3}) (1 - g(z_2^{3})) \\frac{\\partial (z_2^{3})}{\\partial \\Theta^{(2)}_{11}})$$"
   ]
  },
  {
   "cell_type": "markdown",
   "metadata": {},
   "source": [
    "Porém $\\frac{\\partial (z_2^{3})}{\\partial \\Theta^{(2)}_{11}} = 0$, ou seja, a variação de $\\Theta^{(2)}_{11}$ não afeta a saída $a_2^{3}$. Sendo assim:\n",
    "\n",
    "$$\\frac{\\partial J(\\Theta)}{\\partial \\Theta^{(2)}_{11}} = \\frac{-1}{m} \\sum\\limits_{i=1}^{m} (\\frac{y_1^{i}}{a_1^{3}} g(z_1^{3}) (1 - g(z_1^{3})) \\frac{\\partial (z_1^{3})}{\\partial \\Theta^{(2)}_{11}} - \\frac{1 - y_1^{i}}{1 - a_1^{3}} g(z_1^{3}) (1 - g(z_1^{3})) \\frac{\\partial (z_1^{3})}{\\partial \\Theta^{(2)}_{11}})$$\n",
    "\n",
    "$$\\frac{\\partial J(\\Theta)}{\\partial \\Theta^{(2)}_{11}} = \\frac{-1}{m} \\sum\\limits_{i=1}^{m} \\frac{y_1^{i}}{a_1^{3}} g(z_1^{3}) (1 - g(z_1^{3})) a_1^{2} - \\frac{1 - y_1^{i}}{1 - a_1^{3}} g(z_1^{3}) (1 - g(z_1^{3})) a_1^{2}$$"
   ]
  },
  {
   "cell_type": "markdown",
   "metadata": {},
   "source": [
    "Os demais parâmetros da camada podem ser determinados de forma análoga:\n",
    "\n",
    "$$\\frac{\\partial J(\\Theta)}{\\partial \\Theta^{(2)}_{12}} = \\frac{-1}{m} \\sum\\limits_{i=1}^{m} (\\frac{y_1^{i}}{a_1^{3}} g(z_1^{3}) (1 - g(z_1^{3})) a_2^{2} - \\frac{1 - y_1^{i}}{1 - a_1^{3}} g(z_1^{3}) (1 - g(z_1^{3})) a_2^{2}$$\n",
    "$$\\frac{\\partial J(\\Theta)}{\\partial \\Theta^{(2)}_{21}} = \\frac{-1}{m} \\sum\\limits_{i=1}^{m} (\\frac{y_2^{i}}{a_2^{3}} g(z_2^{3}) (1 - g(z_2^{3})) a_1^{2} - \\frac{1 - y_2^{i}}{1 - a_2^{3}} g(z_2^{3}) (1 - g(z_2^{3})) a_1^{2}$$\n",
    "$$\\frac{\\partial J(\\Theta)}{\\partial \\Theta^{(2)}_{22}} = \\frac{-1}{m} \\sum\\limits_{i=1}^{m} (\\frac{y_2^{i}}{a_2^{3}} g(z_2^{3}) (1 - g(z_2^{3})) a_2^{2} - \\frac{1 - y_2^{i}}{1 - a_2^{3}} g(z_2^{3}) (1 - g(z_2^{3})) a_2^{2}$$"
   ]
  },
  {
   "cell_type": "markdown",
   "metadata": {},
   "source": [
    "Utilizando a regra da cadeia, definida abaixo, a notação pode ser severamente simplificada:\n",
    "\n",
    "$$\\frac{\\partial p(q(z))}{\\partial z} = \\frac{\\partial p}{\\partial q} \\frac{\\partial q}{\\partial z}$$\n",
    "\n",
    "$$\\frac{\\partial J(\\Theta)}{\\Theta^{(2)}_{11}} = \\frac{\\partial J(\\Theta)}{a_1^{(3)}} \\frac{\\partial a_1^{(3)}}{z_1^{(3)}} \\frac{\\partial z_1^{(3)}}{\\Theta^{(2)}_{11}}$$\n",
    "$$\\frac{\\partial J(\\Theta)}{\\Theta^{(2)}_{12}} = \\frac{\\partial J(\\Theta)}{a_1^{(3)}} \\frac{\\partial a_1^{(3)}}{z_1^{(3)}} \\frac{\\partial z_1^{(3)}}{\\Theta^{(2)}_{12}}$$\n",
    "$$\\frac{\\partial J(\\Theta)}{\\Theta^{(2)}_{21}} = \\frac{\\partial J(\\Theta)}{a_2^{(3)}} \\frac{\\partial a_2^{(3)}}{z_2^{(3)}} \\frac{\\partial z_2^{(3)}}{\\Theta^{(2)}_{21}}$$\n",
    "$$\\frac{\\partial J(\\Theta)}{\\Theta^{(2)}_{22}} = \\frac{\\partial J(\\Theta)}{a_2^{(3)}} \\frac{\\partial a_2^{(3)}}{z_2^{(3)}} \\frac{\\partial z_2^{(3)}}{\\Theta^{(2)}_{22}}$$"
   ]
  },
  {
   "cell_type": "markdown",
   "metadata": {},
   "source": [
    "Para a determinação dos parâmetros da primeira camada é importante observar que a matriz $\\Theta^{(1)}$ afeta ambas as saídas de $a^{(3)}$, além de uma das saídas de $a^{(2)}$. Posto isto, a seguir os parâmetros são definidos em função das derivadas parciais conforme postulado pela regra da cadeia. "
   ]
  },
  {
   "cell_type": "markdown",
   "metadata": {},
   "source": [
    "$$\\frac{\\partial J(\\Theta)}{\\Theta^{(1)}_{11}} = \\frac{\\partial J(\\Theta)}{a_1^{(3)}} \\frac{\\partial a_1^{(3)}}{z_1^{(3)}} \\frac{\\partial z_1^{(3)}}{a^{(2)}_{1}} \\frac{\\partial a_1^{(2)}}{z_1^{(2)}} \\frac{\\partial z_1^{(2)}}{\\Theta^{(1)}_{11}} + \\frac{\\partial J(\\Theta)}{a_2^{(3)}} \\frac{\\partial a_2^{(3)}}{z_2^{(3)}} \\frac{\\partial z_2^{(3)}}{a^{(2)}_{1}} \\frac{\\partial a_1^{(2)}}{z_1^{(2)}} \\frac{\\partial z_1^{(2)}}{\\Theta^{(1)}_{11}}$$\n",
    "\n",
    "$$\\frac{\\partial J(\\Theta)}{\\Theta^{(1)}_{12}} = \\frac{\\partial J(\\Theta)}{a_1^{(3)}} \\frac{\\partial a_1^{(3)}}{z_1^{(3)}} \\frac{\\partial z_1^{(3)}}{a^{(2)}_{1}} \\frac{\\partial a_1^{(2)}}{z_1^{(2)}} \\frac{\\partial z_1^{(2)}}{\\Theta^{(1)}_{12}} + \\frac{\\partial J(\\Theta)}{a_2^{(3)}} \\frac{\\partial a_2^{(3)}}{z_2^{(3)}} \\frac{\\partial z_2^{(3)}}{a^{(2)}_{1}} \\frac{\\partial a_1^{(2)}}{z_1^{(2)}} \\frac{\\partial z_1^{(2)}}{\\Theta^{(1)}_{12}}$$\n",
    "\n",
    "$$\\frac{\\partial J(\\Theta)}{\\Theta^{(1)}_{21}} = \\frac{\\partial J(\\Theta)}{a_1^{(3)}} \\frac{\\partial a_1^{(3)}}{z_1^{(3)}} \\frac{\\partial z_1^{(3)}}{a^{(2)}_{2}} \\frac{\\partial a_2^{(2)}}{z_2^{(2)}} \\frac{\\partial z_2^{(2)}}{\\Theta^{(1)}_{21}} + \\frac{\\partial J(\\Theta)}{a_2^{(3)}} \\frac{\\partial a_2^{(3)}}{z_2^{(3)}} \\frac{\\partial z_2^{(3)}}{a^{(2)}_{2}} \\frac{\\partial a_2^{(2)}}{z_2^{(2)}} \\frac{\\partial z_2^{(2)}}{\\Theta^{(1)}_{21}}$$\n",
    "\n",
    "$$\\frac{\\partial J(\\Theta)}{\\Theta^{(1)}_{22}} = \\frac{\\partial J(\\Theta)}{a_1^{(3)}} \\frac{\\partial a_1^{(3)}}{z_1^{(3)}} \\frac{\\partial z_1^{(3)}}{a^{(2)}_{2}} \\frac{\\partial a_2^{(2)}}{z_2^{(2)}} \\frac{\\partial z_2^{(2)}}{\\Theta^{(1)}_{22}} + \\frac{\\partial J(\\Theta)}{a_2^{(3)}} \\frac{\\partial a_2^{(3)}}{z_2^{(3)}} \\frac{\\partial z_2^{(3)}}{a^{(2)}_{2}} \\frac{\\partial a_2^{(2)}}{z_2^{(2)}} \\frac{\\partial z_2^{(2)}}{\\Theta^{(1)}_{22}}$$"
   ]
  },
  {
   "cell_type": "markdown",
   "metadata": {},
   "source": [
    "Com a análise dos parâmetros obtidos acima é possível constatar o alto custo computacional desta estratégia. Afinal mesmo para um modelo simples como o apresentado, com somente $8$ parâmetros, é necessária a solução de $52$ derivadas parciais.  \n",
    "\n",
    "Entretanto também é possível verificar que uma série destas derivadas se repetem. Sendo assim, a seguir é apresentado o algoritmo denominado de **Retropropagação**, utilizado para garantir a eficiência da etapa de treinamento das redes neurais."
   ]
  },
  {
   "cell_type": "markdown",
   "metadata": {},
   "source": [
    "### Retropropagação\n",
    "\n",
    "A retropopagação (backpropagation) rescreve as derivadas parciais dos parâmetros do modelo para garantir a reutilização dos termos que se repetem. Iniciando pelos parâmetros da última camada, é possível verificar que as duas primeiras colunas se repetem e podem ser reescritas na forma de um termo $\\delta^{(3)}$, denominado de erro da última camada: "
   ]
  },
  {
   "cell_type": "markdown",
   "metadata": {},
   "source": [
    "$$ \\frac{\\partial J(\\Theta)}{a_i^{(3)}} \\frac{\\partial a_i^{(3)}}{z_i^{(3)}} = \\delta_i^{(3)} = \\frac{-1}{m} (\\frac{y_i}{a_i^{3}} - \\frac{1 - y_i}{1 - a_i^{3}}) g'(a_i^{3})$$"
   ]
  },
  {
   "cell_type": "markdown",
   "metadata": {},
   "source": [
    "Reescrevendo os parâmetros da última camada segundo a nova notação:\n",
    "\n",
    "$$\\frac{\\partial J(\\Theta)}{\\Theta^{(2)}_{11}} = \\delta_1^{(3)} \\frac{\\partial z_1^{(3)}}{\\Theta^{(2)}_{11}} = \\delta_1^{(3)} a_1^{(2)}$$\n",
    "$$\\frac{\\partial J(\\Theta)}{\\Theta^{(2)}_{12}} = \\delta_1^{(3)} \\frac{\\partial z_1^{(3)}}{\\Theta^{(2)}_{12}} = \\delta_1^{(3)} a_2^{(2)}$$\n",
    "$$\\frac{\\partial J(\\Theta)}{\\Theta^{(2)}_{21}} = \\delta_2^{(3)} \\frac{\\partial z_2^{(3)}}{\\Theta^{(2)}_{21}} = \\delta_2^{(3)} a_1^{(2)}$$\n",
    "$$\\frac{\\partial J(\\Theta)}{\\Theta^{(2)}_{22}} = \\delta_2^{(3)} \\frac{\\partial z_2^{(3)}}{\\Theta^{(2)}_{22}} = \\delta_2^{(3)} a_2^{(2)}$$"
   ]
  },
  {
   "cell_type": "markdown",
   "metadata": {},
   "source": [
    "Devido a repetição dos termos, os parâmetros das demais camadas também podem ser reescritos com o objetivo de eliminar a redundância no cálculo das derivadas parciais. A seguir o parâmetro $\\Theta^{(1)}_{11}$ é redefinido, porém, o procedimento é idêntico para os demais parâmetros.\n",
    "\n",
    "$$\\frac{\\partial J(\\Theta)}{\\Theta^{(1)}_{11}} = \\frac{\\partial J(\\Theta)}{a_1^{(3)}} \\frac{\\partial a_1^{(3)}}{z_1^{(3)}} \\frac{\\partial z_1^{(3)}}{a^{(2)}_{1}} \\frac{\\partial a_1^{(2)}}{z_1^{(2)}} \\frac{\\partial z_1^{(2)}}{\\Theta^{(1)}_{11}} + \\frac{\\partial J(\\Theta)}{a_2^{(3)}} \\frac{\\partial a_2^{(3)}}{z_2^{(3)}} \\frac{\\partial z_2^{(3)}}{a^{(2)}_{1}} \\frac{\\partial a_1^{(2)}}{z_1^{(2)}} \\frac{\\partial z_1^{(2)}}{\\Theta^{(1)}_{11}}$$\n",
    "\n",
    "Primeiramente o erro da última camada é reutilizado:\n",
    "\n",
    "$$ \\frac{\\partial J(\\Theta)}{a_1^{(3)}} \\frac{\\partial a_1^{(3)}}{z_1^{(3)}} = \\delta_1^{(3)}$$\n",
    "\n",
    "$$\\frac{\\partial J(\\Theta)}{\\Theta^{(1)}_{11}} = \\delta_1^{(3)} \\frac{\\partial z_1^{(3)}}{a^{(2)}_{1}} \\frac{\\partial a_1^{(2)}}{z_1^{(2)}} \\frac{\\partial z_1^{(2)}}{\\Theta^{(1)}_{11}} + \\delta_2^{(3)} \\frac{\\partial z_2^{(3)}}{a^{(2)}_{1}} \\frac{\\partial a_1^{(2)}}{z_1^{(2)}} \\frac{\\partial z_1^{(2)}}{\\Theta^{(1)}_{11}}$$"
   ]
  },
  {
   "cell_type": "markdown",
   "metadata": {},
   "source": [
    "É possível verificar também que $\\frac{\\partial z_1^{(3)}}{a^{(2)}_{1}} \\frac{\\partial a_1^{(2)}}{z_1^{(2)}} = \\Theta^{(2)}_{11} f'(a^{(2)})$ e $\\frac{\\partial z_2^{(3)}}{a^{(2)}_{1}} \\frac{\\partial a_1^{(2)}}{z_1^{(2)}} = \\Theta^{(2)}_{21} f'(a^{(2)})$, então:\n",
    "\n",
    "$$\\frac{\\partial J(\\Theta)}{\\Theta^{(1)}_{11}} = (\\delta_1^{(3)} \\Theta^{(2)}_{11} f'(a^{(2)}) + \\delta_2^{(3)} \\Theta^{(2)}_{21} f'(a^{(2)})) \\frac{\\partial z_1^{(2)}}{\\Theta^{(1)}_{11}}$$"
   ]
  },
  {
   "cell_type": "markdown",
   "metadata": {},
   "source": [
    "Posto isto, podemos definir um novo termo referente ao erro, porém agora para as demais camadas:\n",
    "\n",
    "$$\\delta_1^{(2)} = \\delta_1^{(3)} \\Theta^{(2)}_{11} f'(a^{(2)}) + \\delta_2^{(3)} \\Theta^{(2)}_{21} f'(a^{(2)})$$\n",
    "\n",
    "$$\\delta_j^{(l)} = f'(a^{(l)}) \\sum\\limits_{i=1}^{n} \\delta_i^{(l+1)} \\Theta_{ij}^{(l)} $$\n",
    "\n",
    "Retomando o cálculo da derivada parcial dos parâmetros do modelo:\n",
    "\n",
    "$$\\frac{\\partial J(\\Theta)}{\\Theta^{(1)}_{11}} = \\delta_1^{(2)} \\frac{\\partial z_1^{(2)}}{\\Theta^{(1)}_{11}}$$\n",
    "\n",
    "$$\\frac{\\partial J(\\Theta)}{\\Theta^{(1)}_{11}} = \\delta_1^{(2)} x_1$$"
   ]
  },
  {
   "cell_type": "markdown",
   "metadata": {},
   "source": [
    "Enfim, a derivada parcial dos parâmetros do modelo de uma rede neural podem ser definidos conforme segue:\n",
    "\n",
    "$$\\frac{\\partial J(\\Theta)}{\\Theta^{(l)}_{ij}} = (\\delta_j^{(l+1)})^T a^{(l)}$$"
   ]
  },
  {
   "cell_type": "markdown",
   "metadata": {},
   "source": [
    "#### Inicialização das matrizes $\\Theta$\n"
   ]
  },
  {
   "cell_type": "markdown",
   "metadata": {},
   "source": [
    "O algoritmo de retroprogação para obtenção das derivadas parciais de $\\Theta$ depende primeiramente da aplicação da propagação para frente, ou seja, da definição das saídas da rede. Sendo assim, é necessário que seja realizada uma estimativa inicial para os parâmetros do modelo.\n",
    "\n",
    "Diferentemente dos algoritmos discutidos até então, o algoritmo de retropropagação requer um cuidado especial com relação ao valor inicial de $\\Theta$. É possível mostrar que se forem utilizados parâmetros idênticos para inicialização da rede haverá uma limitação severa na flexibilidade do modelo, afinal:\n",
    "\n",
    "$$\\Theta_{ij}^l = k, \\hspace{0.5 cm} \\forall \\hspace{0.2 cm} i,j,l$$\n",
    "$$a_{1}^l = a_{2}^l, \\hspace{0.5 cm} \\delta_{1}^l = \\delta_{2}^l$$\n",
    "$$\\frac{\\partial{J(\\Theta)}}{\\partial{\\Theta_{ij}^l}} = d^l$$\n",
    "\n",
    "A consequência é que, devido as taxas de atualização também serem idênticas, a igualdade das saídas $a_{1}^l = a_{2}^l$ será mantida no modelo resultante mesmo se for utilizado um algoritmo de otimização robusto.\n",
    "\n",
    "A magnitude adotada para a inicialização dos parâmetros da rede neural também requer cuidado, afinal o processo de retropropagação é caracterizado por uma sucessão de produtos, o qual mesmo para redes enxutas pode resultar no problema conhecido como **Explosão de Gradientes**. A explosão de gradientes ocorre devido ao acúmulo de erro nas camadas durante o treinamento que se levado ao limite pode extrapolar a representação numérica e resultar em *nan*. \n",
    "\n",
    "Posto isto, é comum a utilização de um **conjunto de inicialização randômico** para os parâmetros do modelo, porém de magnitude controlada. Uma regra comumente utilizada para inicializar os parâmetros é a **Xavier Normalizada**, definida a seguir:\n",
    "\n",
    "$$\\epsilon^l = \\frac{\\sqrt{6}}{\\sqrt{L^l + L^{l+1}}}$$\n",
    "\n",
    "$$-\\epsilon^l \\leq \\theta_{ij}^l \\geq \\epsilon^l$$\n",
    "\n",
    "Desta forma os parâmetros do modelo serão definidos por uma distribuição uniforme de probabilidade com magnitude inversamente proporcional a quantidade de nodos da camada atual $L^l$ e da subjacente $L^{l+1}$. O script a seguir implementa a inicialização dos parâmetros do modelo."
   ]
  },
  {
   "cell_type": "code",
   "execution_count": 15,
   "metadata": {},
   "outputs": [],
   "source": [
    "SEED = 17 # makes the random numbers predictable\n",
    "np.random.seed(SEED)\n",
    "\n",
    "def list_to_vect(x):\n",
    "    \"\"\"\n",
    "    Transform matrix list to 1-D vector \n",
    "    Arguments:\n",
    "        x: list of np.array (rxs)\n",
    "    Returns:\n",
    "        np.array (kx1)\n",
    "    \"\"\"\n",
    "    vect = x[0].flatten()\n",
    "    for x_i in x[1:]:\n",
    "        vect = np.concatenate((vect, x_i), axis=None)\n",
    "    \n",
    "    return vect\n",
    "    \n",
    "def init_o(layers_sizes):\n",
    "    \"\"\"\n",
    "    Ramdonly initialize the parameters model \n",
    "    Arguments:\n",
    "        layers_sizes: list of integers\n",
    "    Returns:\n",
    "        np.array (kx1)\n",
    "    \"\"\"\n",
    "    o_layers = []\n",
    "    last_layer_size = layers_sizes[0]\n",
    "    for layer_size in layers_sizes[1:]:\n",
    "        epsilon = np.sqrt(6) / np.sqrt(last_layer_size + layer_size)\n",
    "        w = (np.random.rand(layer_size, last_layer_size + 1) * 2 * epsilon) - epsilon\n",
    "        o_layers.append(w)\n",
    "\n",
    "        last_layer_size = layer_size\n",
    "\n",
    "    return list_to_vect(o_layers)"
   ]
  },
  {
   "cell_type": "markdown",
   "metadata": {},
   "source": [
    "#### Algoritmo\n",
    "\n",
    "A seguir o algoritmo de retropropagação é resumido.\n",
    "\n",
    "1) Defina um conjunto de parâmetros inicial randômico e para cada exemplo de treinamento faça:\n",
    "\n",
    "2) Realize a propagação direta para obter as saídas do modelo.\n",
    "\n",
    "3) Calcule o erro para a última camada definida como $L$.\n",
    "\n",
    "$$\\delta_i^{(L)} = \\frac{-1}{m} (\\frac{y_i^{i}}{a_i^{L}} - \\frac{1 - y_i^{i}}{1 - a_i^{L}}) g'(a_i^{L})$$\n",
    "\n",
    "4) Defina a camada atual como a penúltima.\n",
    "\n",
    "$$l = L-1$$\n",
    "\n",
    "5) Acumule as derivadas parciais para a camada atual dado o exemplo de treinamento.\n",
    "\n",
    "$$\\frac{\\partial J(\\Theta)}{\\Theta^{(l)}_{ij}} \\mathrel{+}= (\\delta_j^{(l+1)})^T a^{(l)}$$\n",
    "\n",
    "6) Calcule o erro para a camada atual.\n",
    "\n",
    "$$\\delta_j^{(l)} = f'(a^{(l)}) \\sum\\limits_{i=1}^{n} \\delta_i^{(l+1)} \\Theta_{ij}^{(l)} $$\n",
    "\n",
    "7) Avance uma camada em direção ao início da rede.\n",
    "\n",
    "$$l = l-1$$"
   ]
  },
  {
   "cell_type": "markdown",
   "metadata": {},
   "source": [
    "Repita os passos de 5 a 7 até atingir a camada referente as entradas da rede. \n",
    "\n",
    "O script a seguir implementa o algoritmo e mostra a obtenção dos parâmetros do modelo para o operador XOR com o algoritmo gradiente descendente. Ademais, a estratégia de vetorização dos parâmetros do modelo realizada a seguir visa permitir a reutilização dos métodos em outros algoritmos de otimização como os fornecidos pelas bibliotecas de aprendizado de máquina scipy, pytorch e tensorflow."
   ]
  },
  {
   "cell_type": "code",
   "execution_count": 20,
   "metadata": {},
   "outputs": [
    {
     "name": "stdout",
     "output_type": "stream",
     "text": [
      "iterations: 3000\n",
      "[[0.98464296]\n",
      " [0.01597019]\n",
      " [0.01804048]\n",
      " [0.9866136 ]]\n"
     ]
    },
    {
     "data": {
      "text/plain": [
       "[<matplotlib.lines.Line2D at 0x7f674bec5030>]"
      ]
     },
     "execution_count": 20,
     "metadata": {},
     "output_type": "execute_result"
    },
    {
     "data": {
      "image/png": "[encoded data removed]",
      "text/plain": [
       "<Figure size 1440x720 with 1 Axes>"
      ]
     },
     "metadata": {
      "needs_background": "light"
     },
     "output_type": "display_data"
    }
   ],
   "source": [
    "import matplotlib.pyplot as plt\n",
    "\n",
    "def vect_to_list(x, layers_sizes):\n",
    "    \"\"\"\n",
    "    Transform 1-D vector to matrix list according layers_sizes  \n",
    "    Arguments:\n",
    "        x: np.array (kx1)\n",
    "    Returns:\n",
    "        list of np.array (rxs)\n",
    "    \"\"\"\n",
    "    layer_data_list = []\n",
    "    last_layer_size = layers_sizes[0]\n",
    "    last_layer_idx_data = 0\n",
    "    for layer_size in layers_sizes[1:]:\n",
    "        layer_vector_size = (last_layer_size + 1) * layer_size\n",
    "        layer_vector_data = x[last_layer_idx_data : last_layer_idx_data+layer_vector_size]\n",
    "        layer_data = layer_vector_data.reshape((last_layer_size + 1, layer_size))\n",
    "        \n",
    "        layer_data_list.append(layer_data)\n",
    "\n",
    "        last_layer_idx_data += layer_vector_size\n",
    "        last_layer_size = layer_size\n",
    "    \n",
    "    return layer_data_list\n",
    "\n",
    "def sigmoid(z):\n",
    "    \"\"\"\n",
    "    Logistic function\n",
    "    Arguments:\n",
    "        z: np.array (mx1)\n",
    "    Returns:\n",
    "        np.array (mx1)\n",
    "    \"\"\"\n",
    "    return 1/(1 + np.exp(-z))\n",
    "\n",
    "def forward_propagation(x, o_list):\n",
    "    \"\"\"\n",
    "    Forward Propagation\n",
    "    Arguments:\n",
    "        x: np.array (mxn)\n",
    "        o_list: list of np.array (rxs). \n",
    "                First should be r = n+1 and last s = k \n",
    "    Returns:\n",
    "        list of np.array (mxs)\n",
    "    \"\"\"\n",
    "    x = add_ones_column(x) # bias\n",
    "    a_l = x\n",
    "    a = [a_l]\n",
    "    for o in o_list:\n",
    "        a_l = sigmoid(np.dot(a_l, o))\n",
    "        a_l = add_ones_column(a_l) # bias\n",
    "        a.append(a_l)\n",
    "    \n",
    "    a[-1] = a[-1][:, 1:] # remove bias from output\n",
    "    return a\n",
    "\n",
    "def log_without_nan(x):\n",
    "    \"\"\"\n",
    "    Transforms nan to number\n",
    "    Arguments:\n",
    "        x: np.array (mx1)\n",
    "    Returns:\n",
    "        np.array (mx1)\n",
    "    \"\"\"\n",
    "    return np.nan_to_num(np.log(x))\n",
    "\n",
    "def logistic_regression_cost(o_vect, x, y, layers_sizes):\n",
    "    \"\"\"\n",
    "    Logistic regression cost\n",
    "    Arguments:\n",
    "        o_vect: np.array (kx1)\n",
    "        x: np.array (mxn)\n",
    "        y: np.array (mxn)\n",
    "        hidden_layers_sizes: list of np.array (rxs)\n",
    "    Returns:\n",
    "        double (half mse)\n",
    "    \"\"\"\n",
    "\n",
    "    o_list = vect_to_list(o_vect, layers_sizes)\n",
    "    h_x = forward_propagation(x, o_list)[-1]\n",
    "    m = np.shape(x)[0]\n",
    "    J = 0\n",
    "    for h_x_i, y_i in zip(h_x, y):\n",
    "        J += np.dot(-y_i, log_without_nan(h_x_i)) - np.dot((1-y_i), log_without_nan(1 - h_x_i))\n",
    "\n",
    "    return J/m\n",
    "\n",
    "def d_sigmoid(g_z):\n",
    "    \"\"\"\n",
    "    Derivate of sigmoid function\n",
    "    Arguments:\n",
    "        g_z: np.array (mx1)\n",
    "    Returns:\n",
    "        np.array (mx1)\n",
    "    \"\"\"\n",
    "    return g_z * (1 - g_z) \n",
    "    \n",
    "def backpropagation(o_vect, x, y, layers_sizes):\n",
    "    \"\"\"\n",
    "    Backpropagation\n",
    "    Arguments:\n",
    "        o_vect: np.array (kx1)\n",
    "        x: np.array (mxn)\n",
    "        y: np.array (mxn)\n",
    "        hidden_layers_sizes: list of np.array (rxs)\n",
    "    Returns:\n",
    "        list of np.array (kx1).\n",
    "    \"\"\"\n",
    "\n",
    "    o_list = vect_to_list(o_vect, layers_sizes)\n",
    "    m = np.shape(x)[0]\n",
    "    a = forward_propagation(x, o_list)\n",
    "    L = len(a) - 1\n",
    "\n",
    "    a_L = a[L] # output from model\n",
    "    delta_l = a_L - y # (-1/m) * (y/a_L - np.nan_to_num((1 - y)/(1-a_L))) * d_sigmoid(a_L)\n",
    "    \n",
    "    # backwards\n",
    "    dJ_o = []\n",
    "    l = L - 1\n",
    "    for o in reversed(o_list):\n",
    "        dJ_o_i = np.dot(np.transpose(a[l]), delta_l)\n",
    "        # dJ_o_i[0, :] = 0 # don't update bias\n",
    "        dJ_o.append(dJ_o_i)\n",
    "        \n",
    "        delta_l = np.dot(delta_l, np.transpose(o)) * d_sigmoid(a[l]) \n",
    "        delta_l = delta_l[:, 1:] # remove ignore bias\n",
    "        l = l - 1\n",
    "    \n",
    "    dJ_o_list = list(reversed(dJ_o)) # reorder\n",
    "    return list_to_vect(dJ_o_list)\n",
    "\n",
    "def gradient_descent(o_vect, x, y, layers_sizes, alpha, max_iterations):\n",
    "    \"\"\"\n",
    "    Gradient descent -> Discover what o minimize j\n",
    "    Arguments:\n",
    "        x: np.array (mxn)\n",
    "        o_list: list of np.array (rxs). \n",
    "                First should be r = n+1 and last s = k\n",
    "        y: np.array (mxk)\n",
    "        alpha: double (learning rate)\n",
    "        max_iterations: int\n",
    "    Returns:\n",
    "        o_list: list of np.array (rxs)\n",
    "        i: int (iterations number)\n",
    "        j_hist: list of double\n",
    "    \"\"\"\n",
    "    i = 0\n",
    "    grad_vect = backpropagation(o_vect, x, y, layers_sizes)\n",
    "    grad = vect_to_list(grad_vect, layers_sizes)\n",
    "    o_list = vect_to_list(o_vect, layers_sizes)\n",
    "    j_hist = []\n",
    "    while i < max_iterations:\n",
    "        for idx, row in enumerate(o_list):\n",
    "            o_list[idx] = o_list[idx] - alpha*grad[idx]\n",
    "        \n",
    "        o_vect = list_to_vect(o_list)\n",
    "        j_hist.append(logistic_regression_cost(o_vect, x, y, layers_sizes))\n",
    "        \n",
    "        grad_vect = backpropagation(o_vect, x, y, layers_sizes)\n",
    "        grad = vect_to_list(grad_vect, layers_sizes)\n",
    "        \n",
    "        i += 1\n",
    "\n",
    "    return [o_list, i, j_hist]\n",
    "\n",
    "# XOR expected output\n",
    "y = np.array([[1], [0], [0], [1]]) # 4x1\n",
    "\n",
    "alpha = 1e-1\n",
    "max_iterations = 3000\n",
    "hidden_layers_sizes = [2] # [8]\n",
    "\n",
    "layers_sizes = [np.shape(x)[1]]\n",
    "layers_sizes.extend(hidden_layers_sizes)\n",
    "layers_sizes.append(np.shape(y)[1])\n",
    "\n",
    "o_vect = init_o(layers_sizes)\n",
    "[min_o, i, j_hist] = gradient_descent(o_vect, x, y, layers_sizes, alpha, max_iterations)\n",
    "print('iterations:', i)\n",
    "print(forward_propagation(x, min_o)[-1])\n",
    "\n",
    "plt.figure(figsize=(20,10))\n",
    "plt.plot(j_hist)"
   ]
  },
  {
   "cell_type": "markdown",
   "metadata": {},
   "source": [
    "É possível mostrar que **a função custo de uma rede neural não é convexa**, como consequência o gradiente descendente necessita de uma quantidade elevada de iterações para minimizar o custo, além de não haver garantias de obtenção do mínimo global. Também é possível constatar uma alta correlação entre o número de nodos da camada oculta e a quantidade de iterações.\n",
    "\n",
    "São alternativas para redução do custo computacional do treinamento a utilização de outros métodos de minimização, outros tipos de função de ativação, além da variação da quantidade de nodos e camadas ocultas, esta última inclusive se refere a um subcampo do aprendizado de máquina, o **aprendizado profundo** (Deep Learning).\n",
    "\n",
    "Posto isto, em seguida no material serão discutidas estratégias para seleção destes, que na literatura são comumente denominados de **hiperparâmetros**.    "
   ]
  },
  {
   "cell_type": "markdown",
   "metadata": {},
   "source": [
    "Enfim, um detalhamento maior do algoritmo de retropropagação, inclusive para outras funções custo, pode ser verificado em [Neural networks: training with backpropagation](https://www.jeremyjordan.me/neural-networks-training/)."
   ]
  },
  {
   "cell_type": "markdown",
   "metadata": {},
   "source": [
    "## Problema\n",
    "\n",
    "A seguir é utilizada uma rede neural para composição de um classificador linear multiclasse destinado ao problema de classificação de dígitos escritos a mão, presente no dataset disponível em: [datasets/classifier_multiclass/handwritten_digits.csv](datasets/classifier_multiclass/handwritten_digits.csv)."
   ]
  },
  {
   "cell_type": "code",
   "execution_count": 21,
   "metadata": {},
   "outputs": [
    {
     "name": "stdout",
     "output_type": "stream",
     "text": [
      "shape:  (5000, 401)\n",
      "classes:\n",
      "0    500\n",
      "1    500\n",
      "2    500\n",
      "3    500\n",
      "4    500\n",
      "5    500\n",
      "6    500\n",
      "7    500\n",
      "8    500\n",
      "9    500\n",
      "Name: 400, dtype: int64\n"
     ]
    }
   ],
   "source": [
    "import pandas as pd\n",
    "\n",
    "df = pd.read_csv('datasets/classifier_multiclass/handwritten_digits.csv', header=None)\n",
    "X = df.iloc[:, 0:400].values\n",
    "m = np.shape(X)[0]\n",
    "y = df.iloc[:, 400]\n",
    "\n",
    "print('shape: ', df.shape)\n",
    "print('classes:')\n",
    "print(y.value_counts())"
   ]
  },
  {
   "cell_type": "markdown",
   "metadata": {},
   "source": [
    "O dataset proposto acima é composto de 5000 imagens de dígitos escritos a mão com resolução de 20x20 pixels em escala de cinza, além do rótulo da imagem presente na última coluna. No dataset as imagens são vetorizadas, o que resulta em uma matrix de tamanho 5000x401. Com os dados mostrados acima também é possível verificar que o dataset é balanceado, ou seja, possui a mesma quantidade de exemplos para os dígitos de 0 a 9.\n",
    "\n",
    "O script abaixo renderiza um conjunto aleatório de imagens o que permite inspecionar o conteúdo do dataset. "
   ]
  },
  {
   "cell_type": "code",
   "execution_count": 30,
   "metadata": {},
   "outputs": [
    {
     "data": {
      "image/png": "[encoded data removed]",
      "text/plain": [
       "<Figure size 432x288 with 64 Axes>"
      ]
     },
     "metadata": {
      "needs_background": "light"
     },
     "output_type": "display_data"
    }
   ],
   "source": [
    "import scipy.ndimage as ndimage\n",
    "def show_image(X, n_images, size_image = [20, 20]):\n",
    "    \"\"\"\n",
    "    Show image in gray scale\n",
    "    Arguments:\n",
    "        X: np.array (mxn)\n",
    "        n_images: int\n",
    "        size_image: np.array (rxs) -> r.s = n\n",
    "    Returns:\n",
    "    \"\"\"\n",
    "    \n",
    "    n_images_sqrt = int(np.sqrt(n_images))\n",
    "    f, axarr = plt.subplots(n_images_sqrt, n_images_sqrt)\n",
    "    \n",
    "    image = 0\n",
    "    for i in range(n_images_sqrt):\n",
    "        for j in range(n_images_sqrt):\n",
    "            x = X[image, :].reshape(size_image)\n",
    "            x_rot = ndimage.rotate(x, 90, reshape=True)\n",
    "\n",
    "            axarr[i, j].imshow(x_rot, cmap='gray', origin='lower')\n",
    "            axarr[i, j].axis('off')\n",
    "            image += 1\n",
    "    \n",
    "n_images = 64\n",
    "indexes = np.random.randint(0, m, n_images)\n",
    "show_image(X[indexes], n_images)"
   ]
  },
  {
   "cell_type": "markdown",
   "metadata": {},
   "source": [
    "A implementação abaixo realiza o treinamento de uma rede neural com 25 nodos na camada oculta através do algoritmo de otimização **gradiente conjugado**, disponibilizado pela biblioteca scipy. A escolha por um otimizador mais robusto se dá devido a complexidade e principalmente elevada dimensionalidade do problema. "
   ]
  },
  {
   "cell_type": "code",
   "execution_count": 27,
   "metadata": {},
   "outputs": [
    {
     "name": "stdout",
     "output_type": "stream",
     "text": [
      "iterations: 49 | cost:  0.24469341347265372\n"
     ]
    },
    {
     "data": {
      "text/plain": [
       "[<matplotlib.lines.Line2D at 0x7f674bc282e0>]"
      ]
     },
     "execution_count": 27,
     "metadata": {},
     "output_type": "execute_result"
    },
    {
     "data": {
      "image/png": "[encoded data removed]",
      "text/plain": [
       "<Figure size 1440x720 with 1 Axes>"
      ]
     },
     "metadata": {
      "needs_background": "light"
     },
     "output_type": "display_data"
    }
   ],
   "source": [
    "from scipy.optimize import minimize\n",
    "from IPython.display import clear_output\n",
    "\n",
    "def vectorize(x, n_labels):\n",
    "    \"\"\"\n",
    "    Transform integer into array like: 2 -> [0 0 1 0 ... 0]\n",
    "    Arguments:\n",
    "        x: np.array (mx1)\n",
    "        n_labels: int\n",
    "    Returns:\n",
    "        np.array (mxn_labels)\n",
    "    \"\"\"\n",
    "    m = np.shape(x)[0]\n",
    "    X = np.zeros([m, n_labels])\n",
    "\n",
    "    for i, x_i in enumerate(x):\n",
    "        X[i, x_i] = 1\n",
    "\n",
    "    return X\n",
    "\n",
    "def monitoring_minimize(o_vect):\n",
    "    global iterations\n",
    "\n",
    "    J = logistic_regression_cost(o_vect, X, Y, layers_sizes)\n",
    "    clear_output(wait=True)\n",
    "    print('iterations:', iterations, '| cost: ', J)\n",
    "    \n",
    "    j_hist.append(J)\n",
    "    iterations += 1\n",
    "\n",
    "    return False\n",
    "\n",
    "hidden_layers_sizes = [25]\n",
    "n_labels = 10\n",
    "Y = vectorize(y, n_labels)\n",
    "\n",
    "layers_sizes = [np.shape(X)[1]]\n",
    "layers_sizes.extend(hidden_layers_sizes)\n",
    "layers_sizes.append(np.shape(Y)[1])\n",
    "\n",
    "o_vect = init_o(layers_sizes)\n",
    "max_iterations = 50 # 100\n",
    "iterations = 0\n",
    "j_hist = []\n",
    "print('starting minimize ...')\n",
    "result = minimize(logistic_regression_cost, o_vect, args=(X, Y, layers_sizes), jac=backpropagation, method = 'CG', options = {'maxiter' : max_iterations}, callback=monitoring_minimize)\n",
    "o_min_vect = result.x\n",
    "\n",
    "plt.figure(figsize=(20,10))\n",
    "plt.plot(j_hist)"
   ]
  },
  {
   "cell_type": "markdown",
   "metadata": {},
   "source": [
    "A seguir é avaliada a acurácia do modelo obtido:"
   ]
  },
  {
   "cell_type": "code",
   "execution_count": 28,
   "metadata": {},
   "outputs": [
    {
     "name": "stdout",
     "output_type": "stream",
     "text": [
      "accuracy: 0.9718\n"
     ]
    }
   ],
   "source": [
    "def predict(x):\n",
    "    \"\"\"\n",
    "    Multiclass prediction\n",
    "    Arguments:\n",
    "        x: np.array (mxn)\n",
    "    Returns:\n",
    "        np.array (mx1)\n",
    "    \"\"\"\n",
    "    [m, n] = np.shape(x)\n",
    "    preds = np.zeros((m,n))\n",
    "    for idx, x_i in enumerate(x):\n",
    "        pred = np.zeros((1,n))\n",
    "        out = np.argmax(x_i, axis=0)\n",
    "        pred[0, out] = 1\n",
    "        preds[idx, :] = pred\n",
    "\n",
    "    return preds\n",
    "\n",
    "def accuracy(h_x, y):\n",
    "    \"\"\"\n",
    "    Accuracy from classification\n",
    "    Arguments:\n",
    "        h_x: np.array (mx1)\n",
    "        y: np.array (mx1)\n",
    "    Returns:\n",
    "        accuracy: double\n",
    "        id_error_list: list of integer\n",
    "    \"\"\"\n",
    "    m = np.shape(h_x)[0]\n",
    "    hints = 0\n",
    "    id_error_list = []\n",
    "    for idx, (h_x_i, y_i) in enumerate(zip(h_x, y)):\n",
    "        if np.array_equal(h_x_i, y_i):\n",
    "            hints += 1\n",
    "        else:\n",
    "            id_error_list.append(idx)\n",
    "\n",
    "    return [hints/m, id_error_list]\n",
    "    \n",
    "o_min_list = vect_to_list(o_min_vect, layers_sizes)\n",
    "a = forward_propagation(X, o_min_list)\n",
    "pred = predict(a[-1])\n",
    "\n",
    "[accy, id_error_list] = accuracy(pred, Y)\n",
    "print('accuracy:', accy)"
   ]
  },
  {
   "cell_type": "markdown",
   "metadata": {},
   "source": [
    "É possível constatar que o modelo desenvolvido possui uma excelente precisão na classificação dos dígitos, afinal acertou 97,18% dos exemplos de treinamento. A seguir são inspecionados os exemplos em que o modelo errou a classificação."
   ]
  },
  {
   "cell_type": "code",
   "execution_count": 29,
   "metadata": {},
   "outputs": [
    {
     "data": {
      "image/png": "[encoded data removed]",
      "text/plain": [
       "<Figure size 432x288 with 121 Axes>"
      ]
     },
     "metadata": {
      "needs_background": "light"
     },
     "output_type": "display_data"
    }
   ],
   "source": [
    "errors = len(id_error_list)\n",
    "if errors:\n",
    "    show_image(X[id_error_list], errors)"
   ]
  },
  {
   "cell_type": "markdown",
   "metadata": {},
   "source": [
    "Pela inspeção das figuras acima podemos ver que as imagens em que o modelo errou a classificação são compostas por dígitos distorcidos, os quais alguns nem mesmo um humano poderia distinguir. \n",
    "\n",
    "Enfim, podemos verificar que a acurácia do modelo pode ser melhorada com o aumento da quantidade de iterações do otimizador, porém conforme será discutido no próximo capítulo, uma acurácia de 100% não é garantia de um bom modelo visto que nestes casos o sobreajuste realizado sobre os dados do modelo impede que o mesmo generalize e realize inferências precisas para dados não observados durante o treinamento."
   ]
  },
  {
   "cell_type": "markdown",
   "metadata": {},
   "source": [
    "## Considerações Finais\n",
    "\n",
    "Neste capítulo foi apresentado o tópico de redes neurais como algoritmo de aprendizado de máquina para o mapeamento de funções altamente não lineares. Primeiramente foram apresentados os dois algoritmos centrais das redes neurais, o de retropagação utilizado na fase de treinamento e o de propagação para frente utilizado também no processo de inferência do modelo.\n",
    "\n",
    "Após, foram apresentados os cuidados necessários para inicialização dos parâmetros do modelo, em especial no que se refere ao problema de explosão dos de gradientes. Em seguida, partindo do problema clássico de implementação do operador lógico XOR, foi possível verificar que com o emprego de múltiplas camadas a flexibilidade do modelo pode ser aumentada. \n",
    "\n",
    "Ao final, o problema de classificação de dígitos escritos a mão foi objeto de estudo. Neste problema foi possível comprovar a capacidade das redes neurais em mapear funções de elevada dimensionalidade, característica inerente da classificação de imagens. \n",
    "\n",
    "Até o presente modelo foi aceito como melhor modelo aquele que possui maior acurácia na sua inferência, entretanto, não é raro que durante a fase de treinamento o modelo decore os dados e apresente uma acurácia elevada mesmo sem a capacidade de generalizar. Neste contexto, o próximo capítulo discute as boas práticas em relação ao fluxo de trabalho para avaliação e seleção de modelos, em especial sobre a definição dos hiperparâmetros.\n",
    "\n",
    "Enfim, os algoritmos desenvolvidos neste capítulo podem ser obtidos em [src/neural_networks.py](src/neural_networks.py)."
   ]
  },
  {
   "cell_type": "markdown",
   "metadata": {},
   "source": []
  }
 ],
 "metadata": {
  "kernelspec": {
   "display_name": "Python 3.10.4 64-bit",
   "language": "python",
   "name": "python3"
  },
  "language_info": {
   "codemirror_mode": {
    "name": "ipython",
    "version": 3
   },
   "file_extension": ".py",
   "mimetype": "text/x-python",
   "name": "python",
   "nbconvert_exporter": "python",
   "pygments_lexer": "ipython3",
   "version": "3.10.4"
  },
  "orig_nbformat": 4,
  "vscode": {
   "interpreter": {
    "hash": "916dbcbb3f70747c44a77c7bcd40155683ae19c65e1c03b4aa3499c5328201f1"
   }
  }
 },
 "nbformat": 4,
 "nbformat_minor": 2
}
