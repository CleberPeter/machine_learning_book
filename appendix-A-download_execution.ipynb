{
 "cells": [
  {
   "cell_type": "markdown",
   "id": "06d1a079-f62f-4b46-8764-2af1a799f634",
   "metadata": {},
   "source": [
    "# Download e execução\n",
    "\n",
    "1) Download do repositório no Github:\n",
    "\n",
    "```console\n",
    "foo@bar:~$ git clone  \n",
    "```\n",
    "\n",
    "2) Instalação do jupyterlab:\n",
    "\n",
    "```console\n",
    "foo@bar:~$ pip install jupyterlab \n",
    "```\n",
    "\n",
    "3) Execução:\n",
    "\n",
    "```console\n",
    "foo@bar:~$ cd \n",
    "foo@bar:~$ jupyter-lab \n",
    "```"
   ]
  },
  {
   "cell_type": "code",
   "execution_count": null,
   "id": "4b558e47-2239-459a-8a7a-9d03a17ab7f0",
   "metadata": {},
   "outputs": [],
   "source": []
  }
 ],
 "metadata": {
  "kernelspec": {
   "display_name": "Python 3 (ipykernel)",
   "language": "python",
   "name": "python3"
  },
  "language_info": {
   "codemirror_mode": {
    "name": "ipython",
    "version": 3
   },
   "file_extension": ".py",
   "mimetype": "text/x-python",
   "name": "python",
   "nbconvert_exporter": "python",
   "pygments_lexer": "ipython3",
   "version": "3.8.10"
  }
 },
 "nbformat": 4,
 "nbformat_minor": 5
}
