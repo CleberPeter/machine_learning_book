{
 "cells": [
  {
   "cell_type": "markdown",
   "id": "06d1a079-f62f-4b46-8764-2af1a799f634",
   "metadata": {},
   "source": [
    "# Download e execução do livro\n",
    "\n",
    "1) Download do repositório no Github:\n",
    "\n",
    "        git clone https://github.com/CleberPeter/machine_learning_book\n",
    "        \n",
    "2) Instalação do jupyterlab:\n",
    "\n",
    "        pip install jupyterlab\n",
    "        \n",
    "3) Instalação do ipympl para habilitar interatividade com o matplotlib:\n",
    "\n",
    "        pip install ipympl\n",
    "\n",
    "4) Execução:\n",
    "\n",
    "        cd machine_learning_book/\n",
    "        jupyter-lab "
   ]
  },
  {
   "cell_type": "code",
   "execution_count": null,
   "id": "15e29f84-ed12-4690-9a5e-c7e898138284",
   "metadata": {},
   "outputs": [],
   "source": []
  }
 ],
 "metadata": {
  "kernelspec": {
   "display_name": "Python 3 (ipykernel)",
   "language": "python",
   "name": "python3"
  },
  "language_info": {
   "codemirror_mode": {
    "name": "ipython",
    "version": 3
   },
   "file_extension": ".py",
   "mimetype": "text/x-python",
   "name": "python",
   "nbconvert_exporter": "python",
   "pygments_lexer": "ipython3",
   "version": "3.8.10"
  }
 },
 "nbformat": 4,
 "nbformat_minor": 5
}
